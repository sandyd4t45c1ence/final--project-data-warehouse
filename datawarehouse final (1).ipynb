{
 "cells": [
  {
   "cell_type": "code",
   "execution_count": 70,
   "id": "596615bb-5d34-495c-b6b2-4efa58dac198",
   "metadata": {},
   "outputs": [],
   "source": [
    "import time\n",
    "import atoti as tt\n",
    "import pandas as pd\n",
    "import numpy as np\n",
    "import matplotlib.pyplot as plt\n",
    "import sys"
   ]
  },
  {
   "cell_type": "code",
   "execution_count": 71,
   "id": "56ec2feb-f9f6-4422-a0bf-e9737a0b2c6b",
   "metadata": {},
   "outputs": [],
   "source": [
    "session = tt.Session.start()"
   ]
  },
  {
   "cell_type": "code",
   "execution_count": 72,
   "id": "f315f456-e58b-493d-8d20-62dd5da565b1",
   "metadata": {},
   "outputs": [],
   "source": [
    " df = pd.read_excel(\"Economic_freedom.xlsx\", sheet_name=\"EFW Data 2024 Report\", header=4, engine='openpyxl')"
   ]
  },
  {
   "cell_type": "code",
   "execution_count": 73,
   "id": "22f6ee7a-9668-4bb2-8a21-8451563d8f82",
   "metadata": {},
   "outputs": [],
   "source": [
    "df.drop(df.columns[0], axis=1, inplace=True)"
   ]
  },
  {
   "cell_type": "code",
   "execution_count": 74,
   "id": "ad1665e7-e1e8-41f6-9f8b-4706bc917a55",
   "metadata": {},
   "outputs": [
    {
     "data": {
      "text/plain": [
       "['Year',\n",
       " 'ISO Code 2',\n",
       " 'ISO Code 3',\n",
       " 'Countries',\n",
       " ' Economic Freedom Summary Index',\n",
       " 'Rank',\n",
       " 'Quartile',\n",
       " 'Government consumption',\n",
       " 'data',\n",
       " 'Transfers and subsidies',\n",
       " 'data.1',\n",
       " 'Government investment',\n",
       " 'data.2',\n",
       " 'Top marginal income tax rate',\n",
       " 'data.3',\n",
       " 'Top marginal income and payroll tax rate',\n",
       " 'data.4',\n",
       " 'Top marginal tax rate',\n",
       " 'State ownership of Assets',\n",
       " 'Size of Government',\n",
       " 'Area 1 Rank',\n",
       " 'Judicial independence',\n",
       " 'Impartial courts',\n",
       " 'Protection of property rights',\n",
       " 'Military interference in rule of law and politics',\n",
       " 'Integrity of the legal system',\n",
       " 'Legal enforcement of contracts',\n",
       " 'Regulatory restrictions on the sale of real property',\n",
       " 'Reliability of police',\n",
       " 'Gender Legal Rights Adjustment',\n",
       " 'Legal System & Property Rights -- Without Gender Adjustment',\n",
       " 'Legal System & Property Rights -- With Gender Adjustment',\n",
       " 'Area 2 Rank',\n",
       " 'Money growth',\n",
       " 'data.5',\n",
       " 'Standard deviation of inflation',\n",
       " 'data.6',\n",
       " 'Inflation: Most recent year',\n",
       " 'data.7',\n",
       " 'Freedom to own foreign currency bank accounts',\n",
       " 'Sound Money',\n",
       " 'Area 3 Rank',\n",
       " 'Revenue from trade taxes (% of trade sector)',\n",
       " 'data.8',\n",
       " 'Mean tariff rate',\n",
       " 'data.9',\n",
       " 'Standard deviation of tariff rates',\n",
       " 'data.10',\n",
       " 'Tariffs',\n",
       " 'Non-tariff trade barriers',\n",
       " 'Compliance costs of importing and exporting',\n",
       " 'Regulatory trade barriers',\n",
       " 'Black market exchange rates',\n",
       " 'Financial openness',\n",
       " 'Capital controls',\n",
       " 'Freedom of foreigners to visit',\n",
       " 'Protection of foreign assets',\n",
       " 'Controls of the movement of capital and people',\n",
       " 'Freedom to trade internationally',\n",
       " 'Area 4 Rank',\n",
       " 'Ownership of banks',\n",
       " 'Private sector credit',\n",
       " 'Interest rate controls/negative real interest rates)',\n",
       " 'Credit market regulations',\n",
       " 'Hiring regulations and minimum wage',\n",
       " 'Hiring and firing regulations',\n",
       " 'Centralized collective bargaining',\n",
       " 'Hours Regulations',\n",
       " 'Mandated cost of worker dismissal',\n",
       " 'Conscription',\n",
       " 'Foreign Labor',\n",
       " 'Labor market regulations',\n",
       " 'Regulatory Burden',\n",
       " 'Bureacracy costs',\n",
       " 'Impartial Public Administration',\n",
       " 'Tax compliance',\n",
       " 'Business regulations',\n",
       " 'Market openness',\n",
       " 'Business Permits',\n",
       " 'Distorton of the business environment',\n",
       " 'Freedom to enter markets and compete',\n",
       " 'Regulation',\n",
       " 'Area 5 Rank',\n",
       " 'World Bank Region',\n",
       " 'World Bank Current Income Classification, 1990-Present']"
      ]
     },
     "execution_count": 74,
     "metadata": {},
     "output_type": "execute_result"
    }
   ],
   "source": [
    "original_columns = df.columns.tolist()\n",
    "original_columns"
   ]
  },
  {
   "cell_type": "code",
   "execution_count": 75,
   "id": "3ffd7e4f-a717-4d5f-9418-7ff2e9e37153",
   "metadata": {},
   "outputs": [],
   "source": [
    "def clean_col_names(df_in):\n",
    "    cols = df_in.columns\n",
    "    new_cols = []\n",
    "    for col in cols:\n",
    "        new_col = str(col).strip() # Strip leading/trailing whitespace\n",
    "        new_col = new_col.replace('/', '_').replace('(', '_').replace(')', '_').replace(',', '_') # Replace specific chars\n",
    "        new_col = new_col.replace('-', '_') # Replace hyphens\n",
    "        new_col = new_col.replace(' ', '_') # Replace spaces with underscores\n",
    "        new_col = new_col.replace('.', '') # Remove periods often used in duplicate names like data.1\n",
    "        new_col = new_col.replace('&', 'and') # Replace ampersand\n",
    "        new_col = new_col.replace('%', 'percent') # Replace percent sign\n",
    "        while '__' in new_col: # Replace multiple underscores\n",
    "            new_col = new_col.replace('__', '_')\n",
    "        new_col = new_col.lower() # Convert to lowercase\n",
    "        new_cols.append(new_col)\n",
    "    df_in.columns = new_cols\n",
    "    return df_in\n",
    "\n",
    "df = clean_col_names(df)"
   ]
  },
  {
   "cell_type": "code",
   "execution_count": 76,
   "id": "6a84904c-9fb3-4171-bbad-9e0ab95cdcf5",
   "metadata": {},
   "outputs": [
    {
     "data": {
      "text/plain": [
       "['year',\n",
       " 'iso_code_2',\n",
       " 'iso_code_3',\n",
       " 'countries',\n",
       " 'economic_freedom_summary_index',\n",
       " 'rank',\n",
       " 'quartile',\n",
       " 'government_consumption',\n",
       " 'data',\n",
       " 'transfers_and_subsidies',\n",
       " 'data1',\n",
       " 'government_investment',\n",
       " 'data2',\n",
       " 'top_marginal_income_tax_rate',\n",
       " 'data3',\n",
       " 'top_marginal_income_and_payroll_tax_rate',\n",
       " 'data4',\n",
       " 'top_marginal_tax_rate',\n",
       " 'state_ownership_of_assets',\n",
       " 'size_of_government',\n",
       " 'area_1_rank',\n",
       " 'judicial_independence',\n",
       " 'impartial_courts',\n",
       " 'protection_of_property_rights',\n",
       " 'military_interference_in_rule_of_law_and_politics',\n",
       " 'integrity_of_the_legal_system',\n",
       " 'legal_enforcement_of_contracts',\n",
       " 'regulatory_restrictions_on_the_sale_of_real_property',\n",
       " 'reliability_of_police',\n",
       " 'gender_legal_rights_adjustment',\n",
       " 'legal_system_and_property_rights_without_gender_adjustment',\n",
       " 'legal_system_and_property_rights_with_gender_adjustment',\n",
       " 'area_2_rank',\n",
       " 'money_growth',\n",
       " 'data5',\n",
       " 'standard_deviation_of_inflation',\n",
       " 'data6',\n",
       " 'inflation:_most_recent_year',\n",
       " 'data7',\n",
       " 'freedom_to_own_foreign_currency_bank_accounts',\n",
       " 'sound_money',\n",
       " 'area_3_rank',\n",
       " 'revenue_from_trade_taxes_percent_of_trade_sector_',\n",
       " 'data8',\n",
       " 'mean_tariff_rate',\n",
       " 'data9',\n",
       " 'standard_deviation_of_tariff_rates',\n",
       " 'data10',\n",
       " 'tariffs',\n",
       " 'non_tariff_trade_barriers',\n",
       " 'compliance_costs_of_importing_and_exporting',\n",
       " 'regulatory_trade_barriers',\n",
       " 'black_market_exchange_rates',\n",
       " 'financial_openness',\n",
       " 'capital_controls',\n",
       " 'freedom_of_foreigners_to_visit',\n",
       " 'protection_of_foreign_assets',\n",
       " 'controls_of_the_movement_of_capital_and_people',\n",
       " 'freedom_to_trade_internationally',\n",
       " 'area_4_rank',\n",
       " 'ownership_of_banks',\n",
       " 'private_sector_credit',\n",
       " 'interest_rate_controls_negative_real_interest_rates_',\n",
       " 'credit_market_regulations',\n",
       " 'hiring_regulations_and_minimum_wage',\n",
       " 'hiring_and_firing_regulations',\n",
       " 'centralized_collective_bargaining',\n",
       " 'hours_regulations',\n",
       " 'mandated_cost_of_worker_dismissal',\n",
       " 'conscription',\n",
       " 'foreign_labor',\n",
       " 'labor_market_regulations',\n",
       " 'regulatory_burden',\n",
       " 'bureacracy_costs',\n",
       " 'impartial_public_administration',\n",
       " 'tax_compliance',\n",
       " 'business_regulations',\n",
       " 'market_openness',\n",
       " 'business_permits',\n",
       " 'distorton_of_the_business_environment',\n",
       " 'freedom_to_enter_markets_and_compete',\n",
       " 'regulation',\n",
       " 'area_5_rank',\n",
       " 'world_bank_region',\n",
       " 'world_bank_current_income_classification_1990_present']"
      ]
     },
     "execution_count": 76,
     "metadata": {},
     "output_type": "execute_result"
    }
   ],
   "source": [
    "df.columns.tolist()"
   ]
  },
  {
   "cell_type": "code",
   "execution_count": 77,
   "id": "5d8547c0-c65e-42c6-9671-ba0dd081acbf",
   "metadata": {},
   "outputs": [],
   "source": [
    "rename_map = {\n",
    "    # Identifiers\n",
    "    'iso_code_3': 'country_code', # Assuming iso_code_3 is the desired code\n",
    "    'countries': 'country', # Renaming 'countries' to 'country'\n",
    "    'year': 'year',\n",
    "    \n",
    "    # Main Index and Ranks/Quartiles\n",
    "    'economic_freedom_summary_index': 'economic_freedom_index', # THIS IS THE KEY RENAMING\n",
    "    'rank': 'rank',\n",
    "    'quartile': 'quartile',\n",
    "    \n",
    "    # 5 Main Areas (using cleaned names)\n",
    "    'size_of_government': 'size_of_government',\n",
    "    'legal_system_and_property_rights_with_gender_adjustment': 'legal_system', # Choose the adjusted one\n",
    "    'sound_money': 'sound_money',\n",
    "    'freedom_to_trade_internationally': 'trade_freedom',\n",
    "    'regulation': 'regulation',\n",
    "    \n",
    "    # Area Ranks\n",
    "    'area_1_rank': 'rank_size_of_government',\n",
    "    'area_2_rank': 'rank_legal_system',\n",
    "    'area_3_rank': 'rank_sound_money',\n",
    "    'area_4_rank': 'rank_trade_freedom',\n",
    "    'area_5_rank': 'rank_regulation',\n",
    "\n",
    "    # Sub-components (add more as needed for analysis)\n",
    "    'government_consumption': 'government_consumption',\n",
    "    'transfers_and_subsidies': 'transfers_subsidies',\n",
    "    'government_investment': 'government_investment',\n",
    "    'top_marginal_income_and_payroll_tax_rate': 'top_marginal_tax_rate', # Choose one of the tax rates\n",
    "    'judicial_independence': 'judicial_independence',\n",
    "    'impartial_courts': 'impartial_courts',\n",
    "    'protection_of_property_rights': 'property_rights',\n",
    "    'military_interference_in_rule_of_law_and_politics': 'military_interference',\n",
    "    'integrity_of_the_legal_system': 'legal_integrity',\n",
    "    'legal_enforcement_of_contracts': 'contract_enforcement',\n",
    "    'regulatory_restrictions_on_the_sale_of_real_property': 'real_property_restriction',\n",
    "    'reliability_of_police': 'police_reliability',\n",
    "    'business_costs_of_crime': 'crime_costs',\n",
    "    'money_growth': 'money_growth',\n",
    "    'standard_deviation_of_inflation': 'inflation_volatility',\n",
    "    'inflation:_most_recent_year': 'inflation',\n",
    "    'freedom_to_own_foreign_currency_bank_accounts': 'foreign_currency_accounts',\n",
    "    'tariffs': 'tariffs',\n",
    "    'regulatory_trade_barriers': 'regulatory_trade_barriers',\n",
    "    'black_market_exchange_rates': 'black_market_rates',\n",
    "    'controls_of_the_movement_of_capital_and_people': 'capital_controls',\n",
    "    'ownership_of_banks': 'bank_ownership',\n",
    "    'private_sector_credit': 'private_sector_credit',\n",
    "    'interest_rate_controls_negative_real_interest_rates': 'interest_rate_controls',\n",
    "    'credit_market_regulations': 'credit_regulation',\n",
    "    'hiring_regulations_and_minimum_wage': 'hiring_regulation',\n",
    "    'centralized_collective_bargaining': 'collective_bargaining',\n",
    "    'hours_regulations': 'hours_regulation',\n",
    "    'mandated_cost_of_worker_dismissal': 'dismissal_cost',\n",
    "    'conscription': 'conscription',\n",
    "    'labor_market_regulations': 'labor_regulation',\n",
    "    'business_regulations': 'business_regulation',\n",
    "    \n",
    "    # World Bank Classifications\n",
    "    'world_bank_region': 'world_bank_region',\n",
    "    'world_bank_current_income_classification_1990_present': 'income_classification'\n",
    "}\n",
    "\n",
    "# Apply renaming\n",
    "df.rename(columns=rename_map, inplace=True, errors='ignore')"
   ]
  },
  {
   "cell_type": "code",
   "execution_count": 78,
   "id": "4152c655-c077-40cf-ac9c-a298936f9674",
   "metadata": {},
   "outputs": [
    {
     "data": {
      "text/plain": [
       "['year',\n",
       " 'iso_code_2',\n",
       " 'country_code',\n",
       " 'country',\n",
       " 'economic_freedom_index',\n",
       " 'rank',\n",
       " 'quartile',\n",
       " 'government_consumption',\n",
       " 'data',\n",
       " 'transfers_subsidies',\n",
       " 'data1',\n",
       " 'government_investment',\n",
       " 'data2',\n",
       " 'top_marginal_income_tax_rate',\n",
       " 'data3',\n",
       " 'top_marginal_tax_rate',\n",
       " 'data4',\n",
       " 'top_marginal_tax_rate',\n",
       " 'state_ownership_of_assets',\n",
       " 'size_of_government',\n",
       " 'rank_size_of_government',\n",
       " 'judicial_independence',\n",
       " 'impartial_courts',\n",
       " 'property_rights',\n",
       " 'military_interference',\n",
       " 'legal_integrity',\n",
       " 'contract_enforcement',\n",
       " 'real_property_restriction',\n",
       " 'police_reliability',\n",
       " 'gender_legal_rights_adjustment',\n",
       " 'legal_system_and_property_rights_without_gender_adjustment',\n",
       " 'legal_system',\n",
       " 'rank_legal_system',\n",
       " 'money_growth',\n",
       " 'data5',\n",
       " 'inflation_volatility',\n",
       " 'data6',\n",
       " 'inflation',\n",
       " 'data7',\n",
       " 'foreign_currency_accounts',\n",
       " 'sound_money',\n",
       " 'rank_sound_money',\n",
       " 'revenue_from_trade_taxes_percent_of_trade_sector_',\n",
       " 'data8',\n",
       " 'mean_tariff_rate',\n",
       " 'data9',\n",
       " 'standard_deviation_of_tariff_rates',\n",
       " 'data10',\n",
       " 'tariffs',\n",
       " 'non_tariff_trade_barriers',\n",
       " 'compliance_costs_of_importing_and_exporting',\n",
       " 'regulatory_trade_barriers',\n",
       " 'black_market_rates',\n",
       " 'financial_openness',\n",
       " 'capital_controls',\n",
       " 'freedom_of_foreigners_to_visit',\n",
       " 'protection_of_foreign_assets',\n",
       " 'capital_controls',\n",
       " 'trade_freedom',\n",
       " 'rank_trade_freedom',\n",
       " 'bank_ownership',\n",
       " 'private_sector_credit',\n",
       " 'interest_rate_controls_negative_real_interest_rates_',\n",
       " 'credit_regulation',\n",
       " 'hiring_regulation',\n",
       " 'hiring_and_firing_regulations',\n",
       " 'collective_bargaining',\n",
       " 'hours_regulation',\n",
       " 'dismissal_cost',\n",
       " 'conscription',\n",
       " 'foreign_labor',\n",
       " 'labor_regulation',\n",
       " 'regulatory_burden',\n",
       " 'bureacracy_costs',\n",
       " 'impartial_public_administration',\n",
       " 'tax_compliance',\n",
       " 'business_regulation',\n",
       " 'market_openness',\n",
       " 'business_permits',\n",
       " 'distorton_of_the_business_environment',\n",
       " 'freedom_to_enter_markets_and_compete',\n",
       " 'regulation',\n",
       " 'rank_regulation',\n",
       " 'world_bank_region',\n",
       " 'income_classification']"
      ]
     },
     "execution_count": 78,
     "metadata": {},
     "output_type": "execute_result"
    }
   ],
   "source": [
    "kolom = df.columns.tolist()\n",
    "kolom"
   ]
  },
  {
   "cell_type": "code",
   "execution_count": 79,
   "id": "9d73acdb-812f-4e6a-846f-2e14244f7f7e",
   "metadata": {},
   "outputs": [],
   "source": [
    "required_columns = [\n",
    "    'year', 'country', 'country_code', 'world_bank_region', 'income_classification',\n",
    "    'economic_freedom_index', 'rank', 'quartile',\n",
    "    'size_of_government', 'legal_system', 'sound_money', 'trade_freedom', 'regulation',\n",
    "    'rank_size_of_government', 'rank_legal_system', 'rank_sound_money', 'rank_trade_freedom', 'rank_regulation',\n",
    "    'government_consumption', 'transfers_subsidies', 'inflation', 'tariffs', 'labor_regulation', 'business_regulation'\n",
    "]"
   ]
  },
  {
   "cell_type": "code",
   "execution_count": 80,
   "id": "d0d4c121-f3fe-49ba-be21-c57cc95fc0b6",
   "metadata": {},
   "outputs": [
    {
     "name": "stdout",
     "output_type": "stream",
     "text": [
      "\n",
      "All required columns for Atoti selection seem to be present in the DataFrame.\n"
     ]
    }
   ],
   "source": [
    "missing_required = [col for col in required_columns if col not in kolom]\n",
    "if missing_required:\n",
    "    print(f\"\\nError: The following required columns are MISSING after cleaning/renaming: {missing_required}\")\n",
    "    print(\"Please check the cleaning and renaming steps.\")\n",
    "    # Check if the target of the rename exists in the cleaned list\n",
    "    original_target_col = 'economic_freedom_summary_index' # The key column before renaming\n",
    "    if original_target_col not in df.columns and 'economic_freedom_index' in missing_required:\n",
    "         print(f\"Specifically, the column '{original_target_col}' which should be renamed to 'economic_freedom_index' was not found after cleaning.\")\n",
    "         print(\"Original columns started with:\", original_columns[:5])\n",
    "         print(\"Cleaned columns started with:\", df.columns[:5])\n",
    "    sys.exit(1)\n",
    "else:\n",
    "    print(\"\\nAll required columns for Atoti selection seem to be present in the DataFrame.\")"
   ]
  },
  {
   "cell_type": "code",
   "execution_count": 81,
   "id": "f0c3f005-5752-4c18-b2e5-af4181b8ae61",
   "metadata": {},
   "outputs": [],
   "source": [
    "potential_numeric_cols = [col for col in df.columns if col not in ['country', 'country_code', 'year', 'world_bank_region', 'income_classification', 'iso_code_2']] #"
   ]
  },
  {
   "cell_type": "code",
   "execution_count": 82,
   "id": "aac10d2c-60e7-4e9f-aa7f-842418b7357b",
   "metadata": {},
   "outputs": [
    {
     "name": "stdout",
     "output_type": "stream",
     "text": [
      "Multiple columns with name 'top_marginal_tax_rate' found. Using the first one.\n",
      "Multiple columns with name 'top_marginal_tax_rate' found. Using the first one.\n",
      "Multiple columns with name 'capital_controls' found. Using the first one.\n",
      "Multiple columns with name 'capital_controls' found. Using the first one.\n"
     ]
    }
   ],
   "source": [
    "for col in potential_numeric_cols:\n",
    "    if col in df.columns:\n",
    "        column_data = df[col]\n",
    "        if isinstance(column_data, pd.DataFrame):\n",
    "            print(f\"Multiple columns with name '{col}' found. Using the first one.\")\n",
    "            column_data = column_data.iloc[:, 0]  # ambil kolom pertama\n",
    "        df[col] = pd.to_numeric(column_data, errors='coerce')\n",
    "        \n",
    "    else:\n",
    "        print(f\"Warning: Column '{col}' not found.\")\n"
   ]
  },
  {
   "cell_type": "code",
   "execution_count": 83,
   "id": "3a2a2329-3778-4142-8514-4ed0583ead04",
   "metadata": {},
   "outputs": [],
   "source": [
    "def parse_range(value):\n",
    "    if isinstance(value, str) and '-' in value:\n",
    "        parts = value.split('-')\n",
    "        if len(parts) == 2:\n",
    "            try:\n",
    "                return (float(parts[0]) + float(parts[1])) / 2.0\n",
    "            except ValueError:\n",
    "                return np.nan # Handle cases where parts are not numbers\n",
    "        else:\n",
    "             return np.nan"
   ]
  },
  {
   "cell_type": "code",
   "execution_count": 84,
   "id": "37d4d49b-31b9-4ee0-a97e-1282c82a178d",
   "metadata": {},
   "outputs": [],
   "source": [
    "for col in df.select_dtypes(include=['object']).columns:\n",
    "     if col not in ['country', 'country_code', 'year', 'world_bank_region', 'income_classification', 'iso_code_2']:\n",
    "         # print(f\"Applying range parsing to object column: {col}\") # Debug print\n",
    "         if col in df.columns:\n",
    "             df[col] = df[col].apply(parse_range)\n",
    "             # Attempt conversion to numeric again after parsing\n",
    "             df[col] = pd.to_numeric(df[col], errors='coerce')\n",
    "         else:\n",
    "             print(f\"Warning: Column '{col}' not found during range parsing.\")"
   ]
  },
  {
   "cell_type": "code",
   "execution_count": 85,
   "id": "d3728f30-2efb-4e4f-82b4-3463ddf9e45b",
   "metadata": {},
   "outputs": [],
   "source": [
    "if 'country' in df.columns and 'year' in df.columns:\n",
    "    df = df.sort_values(['country', 'year'])\n",
    "else:\n",
    "    print(\"Warning: 'country' or 'year' column missing, cannot sort for interpolation.\")\n",
    "    sys.exit(1)\n"
   ]
  },
  {
   "cell_type": "code",
   "execution_count": 86,
   "id": "712db780-7eb8-4897-8299-e463df6dfe4d",
   "metadata": {},
   "outputs": [],
   "source": [
    "numeric_cols_final = df.select_dtypes(include=np.number).columns.drop('year', errors='ignore').tolist()"
   ]
  },
  {
   "cell_type": "code",
   "execution_count": 87,
   "id": "28c1c075-5317-4acd-93e2-34f5e1d92a9a",
   "metadata": {},
   "outputs": [
    {
     "name": "stdout",
     "output_type": "stream",
     "text": [
      "Interpolasi selesai. Kolom numerik yang digunakan:\n",
      "['economic_freedom_index', 'rank', 'quartile', 'government_consumption', 'transfers_subsidies', 'government_investment', 'top_marginal_income_tax_rate', 'top_marginal_tax_rate', 'state_ownership_of_assets', 'size_of_government', 'rank_size_of_government', 'judicial_independence', 'impartial_courts', 'property_rights', 'military_interference', 'legal_integrity', 'contract_enforcement', 'real_property_restriction', 'police_reliability', 'gender_legal_rights_adjustment', 'legal_system_and_property_rights_without_gender_adjustment', 'legal_system', 'rank_legal_system', 'money_growth', 'inflation_volatility', 'inflation', 'foreign_currency_accounts', 'sound_money', 'rank_sound_money', 'revenue_from_trade_taxes_percent_of_trade_sector_', 'mean_tariff_rate', 'standard_deviation_of_tariff_rates', 'tariffs', 'non_tariff_trade_barriers', 'compliance_costs_of_importing_and_exporting', 'regulatory_trade_barriers', 'black_market_rates', 'financial_openness', 'capital_controls', 'freedom_of_foreigners_to_visit', 'protection_of_foreign_assets', 'trade_freedom', 'rank_trade_freedom', 'bank_ownership', 'private_sector_credit', 'interest_rate_controls_negative_real_interest_rates_', 'credit_regulation', 'hiring_regulation', 'hiring_and_firing_regulations', 'collective_bargaining', 'hours_regulation', 'dismissal_cost', 'conscription', 'foreign_labor', 'labor_regulation', 'regulatory_burden', 'bureacracy_costs', 'impartial_public_administration', 'tax_compliance', 'business_regulation', 'market_openness', 'business_permits', 'distorton_of_the_business_environment', 'freedom_to_enter_markets_and_compete', 'regulation', 'rank_regulation']\n"
     ]
    }
   ],
   "source": [
    "import numpy as np\n",
    "\n",
    "# 1. Hilangkan kolom duplikat nama\n",
    "df = df.loc[:, ~df.columns.duplicated()]\n",
    "\n",
    "# 2. Hapus kolom yang tidak relevan seperti 'data', 'data1', dst\n",
    "df = df.drop(columns=[col for col in df.columns if col.startswith('data')])\n",
    "\n",
    "# 3. Tentukan kolom numerik final (kecuali kolom kategorikal)\n",
    "non_numerik = ['country', 'country_code', 'iso_code_2', 'year', 'world_bank_region', 'income_classification']\n",
    "numeric_cols_final = [col for col in df.select_dtypes(include='number').columns if col not in non_numerik]\n",
    "\n",
    "# 4. Interpolasi per kolom (agar aman)\n",
    "for col in numeric_cols_final:\n",
    "    df[col] = df.groupby(\"country\")[col].transform(\n",
    "        lambda g: g.interpolate(method='linear', limit_direction='both', limit_area='inside')\n",
    "        \n",
    "    )\n",
    "\n",
    "# 5. Cek hasil akhir\n",
    "print(\"Interpolasi selesai. Kolom numerik yang digunakan:\")\n",
    "print(numeric_cols_final)\n"
   ]
  },
  {
   "cell_type": "code",
   "execution_count": 88,
   "id": "2c342041-dbdc-40e6-97af-2891e05f8614",
   "metadata": {},
   "outputs": [
    {
     "name": "stdout",
     "output_type": "stream",
     "text": [
      "Jumlah nilai NaN setelah imputasi: 0\n"
     ]
    }
   ],
   "source": [
    "df[numeric_cols_final] = df[numeric_cols_final].fillna(df[numeric_cols_final].mean())\n",
    "\n",
    "# Cek apakah masih ada NaN\n",
    "print(\"Jumlah nilai NaN setelah imputasi:\", df[numeric_cols_final].isnull().sum().sum())\n"
   ]
  },
  {
   "cell_type": "code",
   "execution_count": 89,
   "id": "24bdde62-bd84-4ddd-bd5b-37666f6247b5",
   "metadata": {},
   "outputs": [],
   "source": [
    "columns_for_atoti = required_columns"
   ]
  },
  {
   "cell_type": "code",
   "execution_count": 90,
   "id": "475b7b59-2d5b-4ca4-8727-73b0f1d07323",
   "metadata": {},
   "outputs": [],
   "source": [
    "final_columns = [col for col in columns_for_atoti if col in df.columns]\n",
    "if len(final_columns) != len(columns_for_atoti):\n",
    "    print(f\"Error: Mismatch between expected Atoti columns and available columns after filtering.\")\n",
    "    print(\"Expected:\", columns_for_atoti)\n",
    "    print(\"Available:\", final_columns)\n",
    "\n",
    "df_atoti = df[final_columns].copy()\n",
    "df_atoti.dropna(subset=['country', 'year'], inplace=True)"
   ]
  },
  {
   "cell_type": "code",
   "execution_count": 91,
   "id": "fd2dfce8-ea71-4cd4-8fcf-cc1b3faaf098",
   "metadata": {},
   "outputs": [
    {
     "data": {
      "text/html": [
       "<div>\n",
       "<style scoped>\n",
       "    .dataframe tbody tr th:only-of-type {\n",
       "        vertical-align: middle;\n",
       "    }\n",
       "\n",
       "    .dataframe tbody tr th {\n",
       "        vertical-align: top;\n",
       "    }\n",
       "\n",
       "    .dataframe thead th {\n",
       "        text-align: right;\n",
       "    }\n",
       "</style>\n",
       "<table border=\"1\" class=\"dataframe\">\n",
       "  <thead>\n",
       "    <tr style=\"text-align: right;\">\n",
       "      <th></th>\n",
       "      <th>year</th>\n",
       "      <th>country</th>\n",
       "      <th>country_code</th>\n",
       "      <th>world_bank_region</th>\n",
       "      <th>income_classification</th>\n",
       "      <th>economic_freedom_index</th>\n",
       "      <th>rank</th>\n",
       "      <th>quartile</th>\n",
       "      <th>size_of_government</th>\n",
       "      <th>legal_system</th>\n",
       "      <th>...</th>\n",
       "      <th>rank_legal_system</th>\n",
       "      <th>rank_sound_money</th>\n",
       "      <th>rank_trade_freedom</th>\n",
       "      <th>rank_regulation</th>\n",
       "      <th>government_consumption</th>\n",
       "      <th>transfers_subsidies</th>\n",
       "      <th>inflation</th>\n",
       "      <th>tariffs</th>\n",
       "      <th>labor_regulation</th>\n",
       "      <th>business_regulation</th>\n",
       "    </tr>\n",
       "  </thead>\n",
       "  <tbody>\n",
       "    <tr>\n",
       "      <th>4620</th>\n",
       "      <td>1970.0</td>\n",
       "      <td>Albania</td>\n",
       "      <td>ALB</td>\n",
       "      <td>Europe &amp; Central Asia</td>\n",
       "      <td>NaN</td>\n",
       "      <td>6.384627</td>\n",
       "      <td>77.412127</td>\n",
       "      <td>2.492136</td>\n",
       "      <td>6.472483</td>\n",
       "      <td>5.545150</td>\n",
       "      <td>...</td>\n",
       "      <td>31.0</td>\n",
       "      <td>79.165886</td>\n",
       "      <td>72.134227</td>\n",
       "      <td>79.527255</td>\n",
       "      <td>5.776615</td>\n",
       "      <td>7.682599</td>\n",
       "      <td>7.58186</td>\n",
       "      <td>7.216726</td>\n",
       "      <td>6.103639</td>\n",
       "      <td>1.817500</td>\n",
       "    </tr>\n",
       "    <tr>\n",
       "      <th>4455</th>\n",
       "      <td>1975.0</td>\n",
       "      <td>Albania</td>\n",
       "      <td>ALB</td>\n",
       "      <td>Europe &amp; Central Asia</td>\n",
       "      <td>NaN</td>\n",
       "      <td>6.384627</td>\n",
       "      <td>77.412127</td>\n",
       "      <td>2.492136</td>\n",
       "      <td>6.472483</td>\n",
       "      <td>5.539100</td>\n",
       "      <td>...</td>\n",
       "      <td>32.0</td>\n",
       "      <td>79.165886</td>\n",
       "      <td>72.134227</td>\n",
       "      <td>79.527255</td>\n",
       "      <td>5.776615</td>\n",
       "      <td>7.682599</td>\n",
       "      <td>7.58186</td>\n",
       "      <td>7.216726</td>\n",
       "      <td>6.103639</td>\n",
       "      <td>1.817500</td>\n",
       "    </tr>\n",
       "    <tr>\n",
       "      <th>4290</th>\n",
       "      <td>1980.0</td>\n",
       "      <td>Albania</td>\n",
       "      <td>ALB</td>\n",
       "      <td>Europe &amp; Central Asia</td>\n",
       "      <td>NaN</td>\n",
       "      <td>6.384627</td>\n",
       "      <td>77.412127</td>\n",
       "      <td>2.492136</td>\n",
       "      <td>3.946126</td>\n",
       "      <td>6.227909</td>\n",
       "      <td>...</td>\n",
       "      <td>28.0</td>\n",
       "      <td>79.165886</td>\n",
       "      <td>72.134227</td>\n",
       "      <td>79.527255</td>\n",
       "      <td>7.702251</td>\n",
       "      <td>7.682599</td>\n",
       "      <td>7.58186</td>\n",
       "      <td>7.216726</td>\n",
       "      <td>6.103639</td>\n",
       "      <td>1.817500</td>\n",
       "    </tr>\n",
       "    <tr>\n",
       "      <th>4125</th>\n",
       "      <td>1985.0</td>\n",
       "      <td>Albania</td>\n",
       "      <td>ALB</td>\n",
       "      <td>Europe &amp; Central Asia</td>\n",
       "      <td>NaN</td>\n",
       "      <td>5.340000</td>\n",
       "      <td>58.000000</td>\n",
       "      <td>3.000000</td>\n",
       "      <td>4.007513</td>\n",
       "      <td>6.230975</td>\n",
       "      <td>...</td>\n",
       "      <td>30.0</td>\n",
       "      <td>54.000000</td>\n",
       "      <td>72.134227</td>\n",
       "      <td>85.000000</td>\n",
       "      <td>7.825025</td>\n",
       "      <td>7.682599</td>\n",
       "      <td>9.93000</td>\n",
       "      <td>7.216726</td>\n",
       "      <td>6.103639</td>\n",
       "      <td>1.817500</td>\n",
       "    </tr>\n",
       "    <tr>\n",
       "      <th>3960</th>\n",
       "      <td>1990.0</td>\n",
       "      <td>Albania</td>\n",
       "      <td>ALB</td>\n",
       "      <td>Europe &amp; Central Asia</td>\n",
       "      <td>LM</td>\n",
       "      <td>4.950000</td>\n",
       "      <td>84.000000</td>\n",
       "      <td>3.000000</td>\n",
       "      <td>4.867138</td>\n",
       "      <td>6.308102</td>\n",
       "      <td>...</td>\n",
       "      <td>34.0</td>\n",
       "      <td>61.000000</td>\n",
       "      <td>72.134227</td>\n",
       "      <td>128.000000</td>\n",
       "      <td>4.871064</td>\n",
       "      <td>3.514986</td>\n",
       "      <td>9.99980</td>\n",
       "      <td>7.216726</td>\n",
       "      <td>6.103639</td>\n",
       "      <td>2.140000</td>\n",
       "    </tr>\n",
       "    <tr>\n",
       "      <th>...</th>\n",
       "      <td>...</td>\n",
       "      <td>...</td>\n",
       "      <td>...</td>\n",
       "      <td>...</td>\n",
       "      <td>...</td>\n",
       "      <td>...</td>\n",
       "      <td>...</td>\n",
       "      <td>...</td>\n",
       "      <td>...</td>\n",
       "      <td>...</td>\n",
       "      <td>...</td>\n",
       "      <td>...</td>\n",
       "      <td>...</td>\n",
       "      <td>...</td>\n",
       "      <td>...</td>\n",
       "      <td>...</td>\n",
       "      <td>...</td>\n",
       "      <td>...</td>\n",
       "      <td>...</td>\n",
       "      <td>...</td>\n",
       "      <td>...</td>\n",
       "    </tr>\n",
       "    <tr>\n",
       "      <th>824</th>\n",
       "      <td>2018.0</td>\n",
       "      <td>Zimbabwe</td>\n",
       "      <td>ZWE</td>\n",
       "      <td>Sub-Saharan Africa</td>\n",
       "      <td>LM</td>\n",
       "      <td>4.710000</td>\n",
       "      <td>159.000000</td>\n",
       "      <td>4.000000</td>\n",
       "      <td>5.636172</td>\n",
       "      <td>3.404754</td>\n",
       "      <td>...</td>\n",
       "      <td>138.0</td>\n",
       "      <td>160.000000</td>\n",
       "      <td>147.000000</td>\n",
       "      <td>155.000000</td>\n",
       "      <td>8.382353</td>\n",
       "      <td>8.501362</td>\n",
       "      <td>5.76000</td>\n",
       "      <td>5.686667</td>\n",
       "      <td>5.633971</td>\n",
       "      <td>3.149038</td>\n",
       "    </tr>\n",
       "    <tr>\n",
       "      <th>659</th>\n",
       "      <td>2019.0</td>\n",
       "      <td>Zimbabwe</td>\n",
       "      <td>ZWE</td>\n",
       "      <td>Sub-Saharan Africa</td>\n",
       "      <td>LM</td>\n",
       "      <td>4.210000</td>\n",
       "      <td>162.000000</td>\n",
       "      <td>4.000000</td>\n",
       "      <td>6.276340</td>\n",
       "      <td>3.389080</td>\n",
       "      <td>...</td>\n",
       "      <td>140.0</td>\n",
       "      <td>164.000000</td>\n",
       "      <td>152.000000</td>\n",
       "      <td>157.000000</td>\n",
       "      <td>9.211765</td>\n",
       "      <td>8.501362</td>\n",
       "      <td>0.00000</td>\n",
       "      <td>5.686667</td>\n",
       "      <td>5.633971</td>\n",
       "      <td>2.939663</td>\n",
       "    </tr>\n",
       "    <tr>\n",
       "      <th>494</th>\n",
       "      <td>2020.0</td>\n",
       "      <td>Zimbabwe</td>\n",
       "      <td>ZWE</td>\n",
       "      <td>Sub-Saharan Africa</td>\n",
       "      <td>LM</td>\n",
       "      <td>3.940000</td>\n",
       "      <td>163.000000</td>\n",
       "      <td>4.000000</td>\n",
       "      <td>5.930878</td>\n",
       "      <td>3.342752</td>\n",
       "      <td>...</td>\n",
       "      <td>142.0</td>\n",
       "      <td>163.000000</td>\n",
       "      <td>155.000000</td>\n",
       "      <td>157.000000</td>\n",
       "      <td>8.855882</td>\n",
       "      <td>8.501362</td>\n",
       "      <td>0.00000</td>\n",
       "      <td>5.200000</td>\n",
       "      <td>5.633971</td>\n",
       "      <td>3.242163</td>\n",
       "    </tr>\n",
       "    <tr>\n",
       "      <th>329</th>\n",
       "      <td>2021.0</td>\n",
       "      <td>Zimbabwe</td>\n",
       "      <td>ZWE</td>\n",
       "      <td>Sub-Saharan Africa</td>\n",
       "      <td>LM</td>\n",
       "      <td>3.770000</td>\n",
       "      <td>164.000000</td>\n",
       "      <td>4.000000</td>\n",
       "      <td>5.049777</td>\n",
       "      <td>3.396579</td>\n",
       "      <td>...</td>\n",
       "      <td>141.0</td>\n",
       "      <td>163.000000</td>\n",
       "      <td>153.000000</td>\n",
       "      <td>161.000000</td>\n",
       "      <td>6.888235</td>\n",
       "      <td>8.501362</td>\n",
       "      <td>0.00000</td>\n",
       "      <td>5.546133</td>\n",
       "      <td>5.633971</td>\n",
       "      <td>3.151538</td>\n",
       "    </tr>\n",
       "    <tr>\n",
       "      <th>164</th>\n",
       "      <td>2022.0</td>\n",
       "      <td>Zimbabwe</td>\n",
       "      <td>ZWE</td>\n",
       "      <td>Sub-Saharan Africa</td>\n",
       "      <td>LM</td>\n",
       "      <td>3.530000</td>\n",
       "      <td>164.000000</td>\n",
       "      <td>4.000000</td>\n",
       "      <td>5.626245</td>\n",
       "      <td>3.542646</td>\n",
       "      <td>...</td>\n",
       "      <td>135.0</td>\n",
       "      <td>163.000000</td>\n",
       "      <td>163.000000</td>\n",
       "      <td>161.000000</td>\n",
       "      <td>6.562005</td>\n",
       "      <td>8.501362</td>\n",
       "      <td>0.00000</td>\n",
       "      <td>5.450667</td>\n",
       "      <td>5.633971</td>\n",
       "      <td>2.976052</td>\n",
       "    </tr>\n",
       "  </tbody>\n",
       "</table>\n",
       "<p>4785 rows × 24 columns</p>\n",
       "</div>"
      ],
      "text/plain": [
       "        year   country country_code      world_bank_region  \\\n",
       "4620  1970.0   Albania          ALB  Europe & Central Asia   \n",
       "4455  1975.0   Albania          ALB  Europe & Central Asia   \n",
       "4290  1980.0   Albania          ALB  Europe & Central Asia   \n",
       "4125  1985.0   Albania          ALB  Europe & Central Asia   \n",
       "3960  1990.0   Albania          ALB  Europe & Central Asia   \n",
       "...      ...       ...          ...                    ...   \n",
       "824   2018.0  Zimbabwe          ZWE     Sub-Saharan Africa   \n",
       "659   2019.0  Zimbabwe          ZWE     Sub-Saharan Africa   \n",
       "494   2020.0  Zimbabwe          ZWE     Sub-Saharan Africa   \n",
       "329   2021.0  Zimbabwe          ZWE     Sub-Saharan Africa   \n",
       "164   2022.0  Zimbabwe          ZWE     Sub-Saharan Africa   \n",
       "\n",
       "     income_classification  economic_freedom_index        rank  quartile  \\\n",
       "4620                   NaN                6.384627   77.412127  2.492136   \n",
       "4455                   NaN                6.384627   77.412127  2.492136   \n",
       "4290                   NaN                6.384627   77.412127  2.492136   \n",
       "4125                   NaN                5.340000   58.000000  3.000000   \n",
       "3960                    LM                4.950000   84.000000  3.000000   \n",
       "...                    ...                     ...         ...       ...   \n",
       "824                     LM                4.710000  159.000000  4.000000   \n",
       "659                     LM                4.210000  162.000000  4.000000   \n",
       "494                     LM                3.940000  163.000000  4.000000   \n",
       "329                     LM                3.770000  164.000000  4.000000   \n",
       "164                     LM                3.530000  164.000000  4.000000   \n",
       "\n",
       "      size_of_government  legal_system  ...  rank_legal_system  \\\n",
       "4620            6.472483      5.545150  ...               31.0   \n",
       "4455            6.472483      5.539100  ...               32.0   \n",
       "4290            3.946126      6.227909  ...               28.0   \n",
       "4125            4.007513      6.230975  ...               30.0   \n",
       "3960            4.867138      6.308102  ...               34.0   \n",
       "...                  ...           ...  ...                ...   \n",
       "824             5.636172      3.404754  ...              138.0   \n",
       "659             6.276340      3.389080  ...              140.0   \n",
       "494             5.930878      3.342752  ...              142.0   \n",
       "329             5.049777      3.396579  ...              141.0   \n",
       "164             5.626245      3.542646  ...              135.0   \n",
       "\n",
       "      rank_sound_money  rank_trade_freedom  rank_regulation  \\\n",
       "4620         79.165886           72.134227        79.527255   \n",
       "4455         79.165886           72.134227        79.527255   \n",
       "4290         79.165886           72.134227        79.527255   \n",
       "4125         54.000000           72.134227        85.000000   \n",
       "3960         61.000000           72.134227       128.000000   \n",
       "...                ...                 ...              ...   \n",
       "824         160.000000          147.000000       155.000000   \n",
       "659         164.000000          152.000000       157.000000   \n",
       "494         163.000000          155.000000       157.000000   \n",
       "329         163.000000          153.000000       161.000000   \n",
       "164         163.000000          163.000000       161.000000   \n",
       "\n",
       "      government_consumption  transfers_subsidies  inflation   tariffs  \\\n",
       "4620                5.776615             7.682599    7.58186  7.216726   \n",
       "4455                5.776615             7.682599    7.58186  7.216726   \n",
       "4290                7.702251             7.682599    7.58186  7.216726   \n",
       "4125                7.825025             7.682599    9.93000  7.216726   \n",
       "3960                4.871064             3.514986    9.99980  7.216726   \n",
       "...                      ...                  ...        ...       ...   \n",
       "824                 8.382353             8.501362    5.76000  5.686667   \n",
       "659                 9.211765             8.501362    0.00000  5.686667   \n",
       "494                 8.855882             8.501362    0.00000  5.200000   \n",
       "329                 6.888235             8.501362    0.00000  5.546133   \n",
       "164                 6.562005             8.501362    0.00000  5.450667   \n",
       "\n",
       "      labor_regulation  business_regulation  \n",
       "4620          6.103639             1.817500  \n",
       "4455          6.103639             1.817500  \n",
       "4290          6.103639             1.817500  \n",
       "4125          6.103639             1.817500  \n",
       "3960          6.103639             2.140000  \n",
       "...                ...                  ...  \n",
       "824           5.633971             3.149038  \n",
       "659           5.633971             2.939663  \n",
       "494           5.633971             3.242163  \n",
       "329           5.633971             3.151538  \n",
       "164           5.633971             2.976052  \n",
       "\n",
       "[4785 rows x 24 columns]"
      ]
     },
     "execution_count": 91,
     "metadata": {},
     "output_type": "execute_result"
    }
   ],
   "source": [
    "df_atoti"
   ]
  },
  {
   "cell_type": "code",
   "execution_count": 92,
   "id": "87552dee-0575-43f5-a466-62b1b6d6b045",
   "metadata": {},
   "outputs": [
    {
     "name": "stdout",
     "output_type": "stream",
     "text": [
      "Columns being loaded to Atoti: ['year', 'country', 'country_code', 'world_bank_region', 'income_classification', 'economic_freedom_index', 'rank', 'quartile', 'size_of_government', 'legal_system', 'sound_money', 'trade_freedom', 'regulation', 'rank_size_of_government', 'rank_legal_system', 'rank_sound_money', 'rank_trade_freedom', 'rank_regulation', 'government_consumption', 'transfers_subsidies', 'inflation', 'tariffs', 'labor_regulation', 'business_regulation']\n"
     ]
    }
   ],
   "source": [
    "df_atoti['year'] = pd.to_numeric(df_atoti['year'], errors='coerce').astype('Int64') # Use nullable integer type\n",
    "df_atoti.dropna(subset=['year'], inplace=True)\n",
    "print(\"Columns being loaded to Atoti:\", df_atoti.columns.tolist())\n"
   ]
  },
  {
   "cell_type": "code",
   "execution_count": 93,
   "id": "92a6f993-097c-4acd-8c13-d556df274dc5",
   "metadata": {},
   "outputs": [
    {
     "name": "stdout",
     "output_type": "stream",
     "text": [
      "'economic_freedom_index' Siap digunakan untuk Atoti.\n"
     ]
    }
   ],
   "source": [
    "if 'economic_freedom_index' not in df_atoti.columns:\n",
    "    print(\"CRITICAL ERROR: 'economic_freedom_index' is NOT in the DataFrame being loaded into Atoti.\")\n",
    "    print(\"Columns available are:\", df_atoti.columns.tolist())\n",
    "    sys.exit(1)\n",
    "else:\n",
    "    print(\"'economic_freedom_index' Siap digunakan untuk Atoti.\")\n"
   ]
  },
  {
   "cell_type": "code",
   "execution_count": 94,
   "id": "0fa3e713-43e2-4480-91e5-bb2fe3763019",
   "metadata": {
    "scrolled": true
   },
   "outputs": [
    {
     "name": "stdout",
     "output_type": "stream",
     "text": [
      "\n",
      "Loading data into Atoti store...\n"
     ]
    },
    {
     "name": "stderr",
     "output_type": "stream",
     "text": [
      "C:\\Users\\mohsa\\anaconda3\\Lib\\site-packages\\atoti\\session.py:864: FutureWarning: The `types` parameter is deprecated, use `data_types` instead.\n",
      "  data_types = _get_data_types(\n"
     ]
    },
    {
     "name": "stdout",
     "output_type": "stream",
     "text": [
      "✅ Data loaded into Atoti successfully.\n",
      "⏱️ Load time: 2.26 seconds\n"
     ]
    }
   ],
   "source": [
    "import atoti as tt\n",
    "import time\n",
    "\n",
    "print(\"\\nLoading data into Atoti store...\")\n",
    "start_time = time.time()\n",
    "\n",
    "try:\n",
    "    # Create Atoti table\n",
    "    economic_table = session.read_pandas(\n",
    "        df_atoti,\n",
    "        keys=[\"country\", \"year\"],\n",
    "        table_name=\"EconomicFreedomData\",\n",
    "        types={\n",
    "            'year': tt.INT,\n",
    "            'country': tt.STRING,\n",
    "            'country_code': tt.STRING,\n",
    "            'world_bank_region': tt.STRING,\n",
    "            'income_classification': tt.STRING\n",
    "        }\n",
    "    )\n",
    "    print(\"✅ Data loaded into Atoti successfully.\")\n",
    "except Exception as e:\n",
    "    print(f\"❌ Failed to load data into Atoti: {e}\")\n",
    "\n",
    "print(f\"⏱️ Load time: {time.time() - start_time:.2f} seconds\")\n"
   ]
  },
  {
   "cell_type": "code",
   "execution_count": 95,
   "id": "d6053827-93ea-43f7-8aab-3b9f95f2b5a0",
   "metadata": {},
   "outputs": [
    {
     "name": "stdout",
     "output_type": "stream",
     "text": [
      "\n",
      "Atoti cube created.\n"
     ]
    }
   ],
   "source": [
    "cube = session.create_cube(economic_table, name=\"EconomicFreedomCube\", mode='auto')\n",
    "print(\"\\nAtoti cube created.\")"
   ]
  },
  {
   "cell_type": "code",
   "execution_count": 96,
   "id": "47feadc8-23d5-4412-a207-9e95483db505",
   "metadata": {},
   "outputs": [],
   "source": [
    "h = cube.hierarchies\n",
    "m = cube.measures\n",
    "l = cube.levels\n"
   ]
  },
  {
   "cell_type": "code",
   "execution_count": 97,
   "id": "8e9e73d3-c504-421f-a322-a52400b1a170",
   "metadata": {},
   "outputs": [
    {
     "name": "stdout",
     "output_type": "stream",
     "text": [
      "Created measure 'Avg Economic Freedom Index'.\n"
     ]
    }
   ],
   "source": [
    "if \"economic_freedom_index\" in list(economic_table):\n",
    "    m[\"Avg Economic Freedom Index\"] = tt.agg.mean(economic_table[\"economic_freedom_index\"])\n",
    "    print(\"Created measure 'Avg Economic Freedom Index'.\")\n",
    "else:\n",
    "    print(\"Error: Column 'economic_freedom_index' tidak ditemukan di tabel Atoti 'economic_table'. Tidak bisa membuat measure.\")\n",
    "    print(\"Kolom yang tersedia di tabel:\", list(economic_table))\n",
    "    sys.exit(1)\n"
   ]
  },
  {
   "cell_type": "code",
   "execution_count": 98,
   "id": "a78b21e8-d9eb-40d7-a4d0-61c859098ea6",
   "metadata": {},
   "outputs": [
    {
     "name": "stdout",
     "output_type": "stream",
     "text": [
      "Created measure 'Record Count'.\n"
     ]
    }
   ],
   "source": [
    "m[\"Record Count\"] = tt.agg.count_distinct(economic_table[\"economic_freedom_index\"])\n",
    "print(\"Created measure 'Record Count'.\")"
   ]
  },
  {
   "cell_type": "code",
   "execution_count": 99,
   "id": "dfefd0f6-a00b-41f7-8d13-91447dd9b73e",
   "metadata": {},
   "outputs": [
    {
     "name": "stdout",
     "output_type": "stream",
     "text": [
      "\n",
      "Cube structure:\n"
     ]
    },
    {
     "data": {
      "application/json": {
       "Dimensions": {
        "EconomicFreedomData": {
         "country": [
          "country"
         ],
         "country_code": [
          "country_code"
         ],
         "income_classification": [
          "income_classification"
         ],
         "world_bank_region": [
          "world_bank_region"
         ],
         "year": [
          "year"
         ]
        }
       },
       "Measures": {
        "Avg Economic Freedom Index": {
         "formatter": "DOUBLE[#,###.00]"
        },
        "Record Count": {
         "formatter": "INT[#,###]"
        },
        "business_regulation.MEAN": {
         "formatter": "DOUBLE[#,###.00]"
        },
        "business_regulation.SUM": {
         "formatter": "DOUBLE[#,###.00]"
        },
        "contributors.COUNT": {
         "formatter": "INT[#,###]"
        },
        "economic_freedom_index.MEAN": {
         "formatter": "DOUBLE[#,###.00]"
        },
        "economic_freedom_index.SUM": {
         "formatter": "DOUBLE[#,###.00]"
        },
        "government_consumption.MEAN": {
         "formatter": "DOUBLE[#,###.00]"
        },
        "government_consumption.SUM": {
         "formatter": "DOUBLE[#,###.00]"
        },
        "inflation.MEAN": {
         "formatter": "DOUBLE[#,###.00]"
        },
        "inflation.SUM": {
         "formatter": "DOUBLE[#,###.00]"
        },
        "labor_regulation.MEAN": {
         "formatter": "DOUBLE[#,###.00]"
        },
        "labor_regulation.SUM": {
         "formatter": "DOUBLE[#,###.00]"
        },
        "legal_system.MEAN": {
         "formatter": "DOUBLE[#,###.00]"
        },
        "legal_system.SUM": {
         "formatter": "DOUBLE[#,###.00]"
        },
        "quartile.MEAN": {
         "formatter": "DOUBLE[#,###.00]"
        },
        "quartile.SUM": {
         "formatter": "DOUBLE[#,###.00]"
        },
        "rank.MEAN": {
         "formatter": "DOUBLE[#,###.00]"
        },
        "rank.SUM": {
         "formatter": "DOUBLE[#,###.00]"
        },
        "rank_legal_system.MEAN": {
         "formatter": "DOUBLE[#,###.00]"
        },
        "rank_legal_system.SUM": {
         "formatter": "DOUBLE[#,###.00]"
        },
        "rank_regulation.MEAN": {
         "formatter": "DOUBLE[#,###.00]"
        },
        "rank_regulation.SUM": {
         "formatter": "DOUBLE[#,###.00]"
        },
        "rank_size_of_government.MEAN": {
         "formatter": "DOUBLE[#,###.00]"
        },
        "rank_size_of_government.SUM": {
         "formatter": "DOUBLE[#,###.00]"
        },
        "rank_sound_money.MEAN": {
         "formatter": "DOUBLE[#,###.00]"
        },
        "rank_sound_money.SUM": {
         "formatter": "DOUBLE[#,###.00]"
        },
        "rank_trade_freedom.MEAN": {
         "formatter": "DOUBLE[#,###.00]"
        },
        "rank_trade_freedom.SUM": {
         "formatter": "DOUBLE[#,###.00]"
        },
        "regulation.MEAN": {
         "formatter": "DOUBLE[#,###.00]"
        },
        "regulation.SUM": {
         "formatter": "DOUBLE[#,###.00]"
        },
        "size_of_government.MEAN": {
         "formatter": "DOUBLE[#,###.00]"
        },
        "size_of_government.SUM": {
         "formatter": "DOUBLE[#,###.00]"
        },
        "sound_money.MEAN": {
         "formatter": "DOUBLE[#,###.00]"
        },
        "sound_money.SUM": {
         "formatter": "DOUBLE[#,###.00]"
        },
        "tariffs.MEAN": {
         "formatter": "DOUBLE[#,###.00]"
        },
        "tariffs.SUM": {
         "formatter": "DOUBLE[#,###.00]"
        },
        "trade_freedom.MEAN": {
         "formatter": "DOUBLE[#,###.00]"
        },
        "trade_freedom.SUM": {
         "formatter": "DOUBLE[#,###.00]"
        },
        "transfers_subsidies.MEAN": {
         "formatter": "DOUBLE[#,###.00]"
        },
        "transfers_subsidies.SUM": {
         "formatter": "DOUBLE[#,###.00]"
        }
       }
      },
      "text/html": [
       "<ul>\n",
       "<li>EconomicFreedomCube\n",
       "  <ul>\n",
       "  <li>Dimensions\n",
       "    <ul>\n",
       "    <li>EconomicFreedomData\n",
       "      <ul>\n",
       "      <li>country\n",
       "        <ol>\n",
       "        <li>country</li>\n",
       "        </ol>      </li>\n",
       "      <li>country_code\n",
       "        <ol>\n",
       "        <li>country_code</li>\n",
       "        </ol>      </li>\n",
       "      <li>income_classification\n",
       "        <ol>\n",
       "        <li>income_classification</li>\n",
       "        </ol>      </li>\n",
       "      <li>world_bank_region\n",
       "        <ol>\n",
       "        <li>world_bank_region</li>\n",
       "        </ol>      </li>\n",
       "      <li>year\n",
       "        <ol>\n",
       "        <li>year</li>\n",
       "        </ol>      </li>\n",
       "      </ul>\n",
       "    </li>\n",
       "    </ul>\n",
       "  </li>\n",
       "  <li>Measures\n",
       "    <ul>\n",
       "    <li>Avg Economic Freedom Index\n",
       "      <ul>\n",
       "      <li>formatter: DOUBLE[#,###.00]</li>\n",
       "      </ul>\n",
       "    </li>\n",
       "    <li>Record Count\n",
       "      <ul>\n",
       "      <li>formatter: INT[#,###]</li>\n",
       "      </ul>\n",
       "    </li>\n",
       "    <li>business_regulation.MEAN\n",
       "      <ul>\n",
       "      <li>formatter: DOUBLE[#,###.00]</li>\n",
       "      </ul>\n",
       "    </li>\n",
       "    <li>business_regulation.SUM\n",
       "      <ul>\n",
       "      <li>formatter: DOUBLE[#,###.00]</li>\n",
       "      </ul>\n",
       "    </li>\n",
       "    <li>contributors.COUNT\n",
       "      <ul>\n",
       "      <li>formatter: INT[#,###]</li>\n",
       "      </ul>\n",
       "    </li>\n",
       "    <li>economic_freedom_index.MEAN\n",
       "      <ul>\n",
       "      <li>formatter: DOUBLE[#,###.00]</li>\n",
       "      </ul>\n",
       "    </li>\n",
       "    <li>economic_freedom_index.SUM\n",
       "      <ul>\n",
       "      <li>formatter: DOUBLE[#,###.00]</li>\n",
       "      </ul>\n",
       "    </li>\n",
       "    <li>government_consumption.MEAN\n",
       "      <ul>\n",
       "      <li>formatter: DOUBLE[#,###.00]</li>\n",
       "      </ul>\n",
       "    </li>\n",
       "    <li>government_consumption.SUM\n",
       "      <ul>\n",
       "      <li>formatter: DOUBLE[#,###.00]</li>\n",
       "      </ul>\n",
       "    </li>\n",
       "    <li>inflation.MEAN\n",
       "      <ul>\n",
       "      <li>formatter: DOUBLE[#,###.00]</li>\n",
       "      </ul>\n",
       "    </li>\n",
       "    <li>inflation.SUM\n",
       "      <ul>\n",
       "      <li>formatter: DOUBLE[#,###.00]</li>\n",
       "      </ul>\n",
       "    </li>\n",
       "    <li>labor_regulation.MEAN\n",
       "      <ul>\n",
       "      <li>formatter: DOUBLE[#,###.00]</li>\n",
       "      </ul>\n",
       "    </li>\n",
       "    <li>labor_regulation.SUM\n",
       "      <ul>\n",
       "      <li>formatter: DOUBLE[#,###.00]</li>\n",
       "      </ul>\n",
       "    </li>\n",
       "    <li>legal_system.MEAN\n",
       "      <ul>\n",
       "      <li>formatter: DOUBLE[#,###.00]</li>\n",
       "      </ul>\n",
       "    </li>\n",
       "    <li>legal_system.SUM\n",
       "      <ul>\n",
       "      <li>formatter: DOUBLE[#,###.00]</li>\n",
       "      </ul>\n",
       "    </li>\n",
       "    <li>quartile.MEAN\n",
       "      <ul>\n",
       "      <li>formatter: DOUBLE[#,###.00]</li>\n",
       "      </ul>\n",
       "    </li>\n",
       "    <li>quartile.SUM\n",
       "      <ul>\n",
       "      <li>formatter: DOUBLE[#,###.00]</li>\n",
       "      </ul>\n",
       "    </li>\n",
       "    <li>rank.MEAN\n",
       "      <ul>\n",
       "      <li>formatter: DOUBLE[#,###.00]</li>\n",
       "      </ul>\n",
       "    </li>\n",
       "    <li>rank.SUM\n",
       "      <ul>\n",
       "      <li>formatter: DOUBLE[#,###.00]</li>\n",
       "      </ul>\n",
       "    </li>\n",
       "    <li>rank_legal_system.MEAN\n",
       "      <ul>\n",
       "      <li>formatter: DOUBLE[#,###.00]</li>\n",
       "      </ul>\n",
       "    </li>\n",
       "    <li>rank_legal_system.SUM\n",
       "      <ul>\n",
       "      <li>formatter: DOUBLE[#,###.00]</li>\n",
       "      </ul>\n",
       "    </li>\n",
       "    <li>rank_regulation.MEAN\n",
       "      <ul>\n",
       "      <li>formatter: DOUBLE[#,###.00]</li>\n",
       "      </ul>\n",
       "    </li>\n",
       "    <li>rank_regulation.SUM\n",
       "      <ul>\n",
       "      <li>formatter: DOUBLE[#,###.00]</li>\n",
       "      </ul>\n",
       "    </li>\n",
       "    <li>rank_size_of_government.MEAN\n",
       "      <ul>\n",
       "      <li>formatter: DOUBLE[#,###.00]</li>\n",
       "      </ul>\n",
       "    </li>\n",
       "    <li>rank_size_of_government.SUM\n",
       "      <ul>\n",
       "      <li>formatter: DOUBLE[#,###.00]</li>\n",
       "      </ul>\n",
       "    </li>\n",
       "    <li>rank_sound_money.MEAN\n",
       "      <ul>\n",
       "      <li>formatter: DOUBLE[#,###.00]</li>\n",
       "      </ul>\n",
       "    </li>\n",
       "    <li>rank_sound_money.SUM\n",
       "      <ul>\n",
       "      <li>formatter: DOUBLE[#,###.00]</li>\n",
       "      </ul>\n",
       "    </li>\n",
       "    <li>rank_trade_freedom.MEAN\n",
       "      <ul>\n",
       "      <li>formatter: DOUBLE[#,###.00]</li>\n",
       "      </ul>\n",
       "    </li>\n",
       "    <li>rank_trade_freedom.SUM\n",
       "      <ul>\n",
       "      <li>formatter: DOUBLE[#,###.00]</li>\n",
       "      </ul>\n",
       "    </li>\n",
       "    <li>regulation.MEAN\n",
       "      <ul>\n",
       "      <li>formatter: DOUBLE[#,###.00]</li>\n",
       "      </ul>\n",
       "    </li>\n",
       "    <li>regulation.SUM\n",
       "      <ul>\n",
       "      <li>formatter: DOUBLE[#,###.00]</li>\n",
       "      </ul>\n",
       "    </li>\n",
       "    <li>size_of_government.MEAN\n",
       "      <ul>\n",
       "      <li>formatter: DOUBLE[#,###.00]</li>\n",
       "      </ul>\n",
       "    </li>\n",
       "    <li>size_of_government.SUM\n",
       "      <ul>\n",
       "      <li>formatter: DOUBLE[#,###.00]</li>\n",
       "      </ul>\n",
       "    </li>\n",
       "    <li>sound_money.MEAN\n",
       "      <ul>\n",
       "      <li>formatter: DOUBLE[#,###.00]</li>\n",
       "      </ul>\n",
       "    </li>\n",
       "    <li>sound_money.SUM\n",
       "      <ul>\n",
       "      <li>formatter: DOUBLE[#,###.00]</li>\n",
       "      </ul>\n",
       "    </li>\n",
       "    <li>tariffs.MEAN\n",
       "      <ul>\n",
       "      <li>formatter: DOUBLE[#,###.00]</li>\n",
       "      </ul>\n",
       "    </li>\n",
       "    <li>tariffs.SUM\n",
       "      <ul>\n",
       "      <li>formatter: DOUBLE[#,###.00]</li>\n",
       "      </ul>\n",
       "    </li>\n",
       "    <li>trade_freedom.MEAN\n",
       "      <ul>\n",
       "      <li>formatter: DOUBLE[#,###.00]</li>\n",
       "      </ul>\n",
       "    </li>\n",
       "    <li>trade_freedom.SUM\n",
       "      <ul>\n",
       "      <li>formatter: DOUBLE[#,###.00]</li>\n",
       "      </ul>\n",
       "    </li>\n",
       "    <li>transfers_subsidies.MEAN\n",
       "      <ul>\n",
       "      <li>formatter: DOUBLE[#,###.00]</li>\n",
       "      </ul>\n",
       "    </li>\n",
       "    <li>transfers_subsidies.SUM\n",
       "      <ul>\n",
       "      <li>formatter: DOUBLE[#,###.00]</li>\n",
       "      </ul>\n",
       "    </li>\n",
       "    </ul>\n",
       "  </li>\n",
       "  </ul>\n",
       "</li>\n",
       "</ul>\n"
      ],
      "text/plain": [
       "<atoti.cube.Cube at 0x23a6ac7cb00>"
      ]
     },
     "execution_count": 99,
     "metadata": {
      "application/json": {
       "expanded": false,
       "root": "EconomicFreedomCube"
      }
     },
     "output_type": "execute_result"
    }
   ],
   "source": [
    "print(\"\\nCube structure:\")\n",
    "session.tables.schema\n",
    "cube"
   ]
  },
  {
   "cell_type": "markdown",
   "id": "26076b92-1e82-4266-b82a-95f573751036",
   "metadata": {},
   "source": [
    "# Pertanyaan dan Jawaban"
   ]
  },
  {
   "cell_type": "markdown",
   "id": "f4edfb55-7e5b-4040-aaba-80fbbe0afd63",
   "metadata": {},
   "source": [
    "Pertanyaaan 1:\n",
    "\n",
    "Berapa rata-rata Indeks Kebebasan Ekonomi per Wilayah Bank Dunia untuk tahun terbaru (2022)?\n"
   ]
  },
  {
   "cell_type": "code",
   "execution_count": 102,
   "id": "8576c8ed-9ab2-4029-a42b-83e64f861c07",
   "metadata": {},
   "outputs": [
    {
     "data": {
      "application/vnd.atoti.convert-mdx-query-result-to-widget.v0+json": {
       "mdx": "SELECT {[Measures].[Avg Economic Freedom Index]} ON COLUMNS, NON EMPTY Hierarchize(Descendants({[EconomicFreedomData].[world_bank_region].[ALL].[AllMember]}, 1, SELF_AND_BEFORE)) ON ROWS FROM [EconomicFreedomCube] WHERE [EconomicFreedomData].[year].[ALL].[AllMember].[2022]",
       "sessionId": "1748856658_172359",
       "widgetCreationCode": "session.widget"
      },
      "text/html": [
       "<div>\n",
       "<style scoped>\n",
       "    .dataframe tbody tr th:only-of-type {\n",
       "        vertical-align: middle;\n",
       "    }\n",
       "\n",
       "    .dataframe tbody tr th {\n",
       "        vertical-align: top;\n",
       "    }\n",
       "\n",
       "    .dataframe thead th {\n",
       "        text-align: right;\n",
       "    }\n",
       "</style>\n",
       "<table border=\"1\" class=\"dataframe\">\n",
       "  <thead>\n",
       "    <tr style=\"text-align: right;\">\n",
       "      <th></th>\n",
       "      <th>Avg Economic Freedom Index</th>\n",
       "    </tr>\n",
       "    <tr>\n",
       "      <th>world_bank_region</th>\n",
       "      <th></th>\n",
       "    </tr>\n",
       "  </thead>\n",
       "  <tbody>\n",
       "    <tr>\n",
       "      <th>East Asia &amp; Pacific</th>\n",
       "      <td>6.97</td>\n",
       "    </tr>\n",
       "    <tr>\n",
       "      <th>Europe &amp; Central Asia</th>\n",
       "      <td>7.20</td>\n",
       "    </tr>\n",
       "    <tr>\n",
       "      <th>Latin America &amp; the Caribbean</th>\n",
       "      <td>6.51</td>\n",
       "    </tr>\n",
       "    <tr>\n",
       "      <th>Middle East &amp; North Africa</th>\n",
       "      <td>5.98</td>\n",
       "    </tr>\n",
       "    <tr>\n",
       "      <th>North America</th>\n",
       "      <td>8.04</td>\n",
       "    </tr>\n",
       "    <tr>\n",
       "      <th>South Asia</th>\n",
       "      <td>6.12</td>\n",
       "    </tr>\n",
       "    <tr>\n",
       "      <th>Sub-Saharan Africa</th>\n",
       "      <td>5.83</td>\n",
       "    </tr>\n",
       "  </tbody>\n",
       "</table>\n",
       "</div>"
      ],
      "text/plain": [
       "                              Avg Economic Freedom Index\n",
       "world_bank_region                                       \n",
       "East Asia & Pacific                                 6.97\n",
       "Europe & Central Asia                               7.20\n",
       "Latin America & the Caribbean                       6.51\n",
       "Middle East & North Africa                          5.98\n",
       "North America                                       8.04\n",
       "South Asia                                          6.12\n",
       "Sub-Saharan Africa                                  5.83"
      ]
     },
     "execution_count": 102,
     "metadata": {},
     "output_type": "execute_result"
    }
   ],
   "source": [
    "cube.query(m[\"Avg Economic Freedom Index\"], levels=[l[\"world_bank_region\"]], filter=l[\"year\"] == 2022)"
   ]
  },
  {
   "cell_type": "markdown",
   "id": "eccfb1ab-c1b4-4eb5-bc2e-da1594cde61c",
   "metadata": {},
   "source": [
    "Rata - Rata indeks per wilayah"
   ]
  },
  {
   "cell_type": "code",
   "execution_count": 104,
   "id": "c64f7fd6-4e96-4c72-b3c8-e6b718ba0e0e",
   "metadata": {},
   "outputs": [],
   "source": [
    "df = cube.query(\n",
    "    m[\"Avg Economic Freedom Index\"],\n",
    "    levels=[l[\"world_bank_region\"]],\n",
    "    filter=l[\"year\"] == 2022\n",
    ")"
   ]
  },
  {
   "cell_type": "code",
   "execution_count": 105,
   "id": "c04047b8-1a6f-4945-bc03-478594bd9a5f",
   "metadata": {},
   "outputs": [],
   "source": [
    "df = df.rename(columns={\"<measure>\": \"Avg Economic Freedom Index\"})\n"
   ]
  },
  {
   "cell_type": "code",
   "execution_count": 106,
   "id": "28c30290-e32f-45ed-ade2-c235f1b80b7b",
   "metadata": {},
   "outputs": [],
   "source": [
    "import seaborn as sns"
   ]
  },
  {
   "cell_type": "code",
   "execution_count": 107,
   "id": "1c40bc93-d1f2-49fa-8920-6ec9f1fc4e0f",
   "metadata": {},
   "outputs": [
    {
     "name": "stderr",
     "output_type": "stream",
     "text": [
      "C:\\Users\\mohsa\\AppData\\Local\\Temp\\ipykernel_20704\\2669446556.py:5: FutureWarning: \n",
      "\n",
      "Passing `palette` without assigning `hue` is deprecated and will be removed in v0.14.0. Assign the `x` variable to `hue` and set `legend=False` for the same effect.\n",
      "\n",
      "  sns.barplot(data=df, x=\"world_bank_region\", y=\"Avg Economic Freedom Index\", palette=\"viridis\")\n"
     ]
    },
    {
     "data": {
      "image/png": "[encoded data removed]",
      "text/plain": [
       "<Figure size 1000x600 with 1 Axes>"
      ]
     },
     "metadata": {},
     "output_type": "display_data"
    }
   ],
   "source": [
    "import seaborn as sns\n",
    "import matplotlib.pyplot as plt\n",
    "\n",
    "plt.figure(figsize=(10, 6))\n",
    "sns.barplot(data=df, x=\"world_bank_region\", y=\"Avg Economic Freedom Index\", palette=\"viridis\")\n",
    "plt.xticks(rotation=45)\n",
    "plt.title(\"Rata-rata Indeks Kebebasan Ekonomi per Wilayah (2022)\")\n",
    "plt.xlabel(\"Wilayah\")\n",
    "plt.ylabel(\"Rata-rata Indeks\")\n",
    "plt.tight_layout()\n",
    "plt.show()\n"
   ]
  },
  {
   "cell_type": "code",
   "execution_count": 108,
   "id": "c0be7044-7b3e-441a-8558-ac9f74475950",
   "metadata": {},
   "outputs": [
    {
     "name": "stdout",
     "output_type": "stream",
     "text": [
      "Index(['Avg Economic Freedom Index'], dtype='object')\n",
      "['world_bank_region']\n"
     ]
    }
   ],
   "source": [
    "print(df.columns)\n",
    "print(df.index.names)\n"
   ]
  },
  {
   "cell_type": "code",
   "execution_count": 109,
   "id": "afe77ab7-68c0-47a0-816e-e8594fdfb857",
   "metadata": {},
   "outputs": [],
   "source": [
    "df = df.reset_index()"
   ]
  },
  {
   "cell_type": "code",
   "execution_count": 110,
   "id": "f4d389af-4810-4fb8-8ac0-f98e01f2dde0",
   "metadata": {},
   "outputs": [
    {
     "data": {
      "image/png": "[encoded data removed]",
      "text/plain": [
       "<Figure size 800x800 with 1 Axes>"
      ]
     },
     "metadata": {},
     "output_type": "display_data"
    }
   ],
   "source": [
    "plt.figure(figsize=(8, 8))\n",
    "plt.pie(df[\"Avg Economic Freedom Index\"], labels=df[\"world_bank_region\"], autopct='%1.1f%%', startangle=140)\n",
    "plt.title(\"Distribusi Indeks Kebebasan Ekonomi per Wilayah (2022)\")\n",
    "plt.tight_layout()\n",
    "plt.show()\n"
   ]
  },
  {
   "cell_type": "markdown",
   "id": "7ce34328-ba35-4c88-b66c-5187ee80ee6d",
   "metadata": {},
   "source": [
    "Pertanyaan ke 2\n",
    "\n",
    "3. Bagaimana korelasi antara skor rata-rata 'Regulasi' dengan skor rata-rata 'trade freedom' di seluruh negara pada tahun 2022?"
   ]
  },
  {
   "cell_type": "code",
   "execution_count": 112,
   "id": "2f2bbdd7-8ff3-48fd-befc-fc7a3c3ca9bd",
   "metadata": {},
   "outputs": [
    {
     "data": {
      "application/vnd.atoti.convert-mdx-query-result-to-widget.v0+json": {
       "mdx": "SELECT {[Measures].[regulation.MEAN], [Measures].[trade_freedom.MEAN]} ON COLUMNS, NON EMPTY Hierarchize(Descendants({[EconomicFreedomData].[country].[ALL].[AllMember]}, 1, SELF_AND_BEFORE)) ON ROWS FROM [EconomicFreedomCube] WHERE [EconomicFreedomData].[year].[ALL].[AllMember].[2022]",
       "sessionId": "1748856658_172359",
       "widgetCreationCode": "session.widget"
      },
      "text/html": [
       "<div>\n",
       "<style scoped>\n",
       "    .dataframe tbody tr th:only-of-type {\n",
       "        vertical-align: middle;\n",
       "    }\n",
       "\n",
       "    .dataframe tbody tr th {\n",
       "        vertical-align: top;\n",
       "    }\n",
       "\n",
       "    .dataframe thead th {\n",
       "        text-align: right;\n",
       "    }\n",
       "</style>\n",
       "<table border=\"1\" class=\"dataframe\">\n",
       "  <thead>\n",
       "    <tr style=\"text-align: right;\">\n",
       "      <th></th>\n",
       "      <th>regulation.MEAN</th>\n",
       "      <th>trade_freedom.MEAN</th>\n",
       "    </tr>\n",
       "    <tr>\n",
       "      <th>country</th>\n",
       "      <th></th>\n",
       "      <th></th>\n",
       "    </tr>\n",
       "  </thead>\n",
       "  <tbody>\n",
       "    <tr>\n",
       "      <th>Albania</th>\n",
       "      <td>6.90</td>\n",
       "      <td>8.53</td>\n",
       "    </tr>\n",
       "    <tr>\n",
       "      <th>Algeria</th>\n",
       "      <td>4.51</td>\n",
       "      <td>3.14</td>\n",
       "    </tr>\n",
       "    <tr>\n",
       "      <th>Angola</th>\n",
       "      <td>5.30</td>\n",
       "      <td>2.97</td>\n",
       "    </tr>\n",
       "    <tr>\n",
       "      <th>Argentina</th>\n",
       "      <td>4.80</td>\n",
       "      <td>4.22</td>\n",
       "    </tr>\n",
       "    <tr>\n",
       "      <th>Armenia</th>\n",
       "      <td>7.10</td>\n",
       "      <td>8.08</td>\n",
       "    </tr>\n",
       "    <tr>\n",
       "      <th>...</th>\n",
       "      <td>...</td>\n",
       "      <td>...</td>\n",
       "    </tr>\n",
       "    <tr>\n",
       "      <th>Venezuela, RB</th>\n",
       "      <td>2.54</td>\n",
       "      <td>5.03</td>\n",
       "    </tr>\n",
       "    <tr>\n",
       "      <th>Vietnam</th>\n",
       "      <td>6.20</td>\n",
       "      <td>6.57</td>\n",
       "    </tr>\n",
       "    <tr>\n",
       "      <th>Yemen, Rep.</th>\n",
       "      <td>3.11</td>\n",
       "      <td>4.61</td>\n",
       "    </tr>\n",
       "    <tr>\n",
       "      <th>Zambia</th>\n",
       "      <td>5.11</td>\n",
       "      <td>7.12</td>\n",
       "    </tr>\n",
       "    <tr>\n",
       "      <th>Zimbabwe</th>\n",
       "      <td>4.20</td>\n",
       "      <td>3.03</td>\n",
       "    </tr>\n",
       "  </tbody>\n",
       "</table>\n",
       "<p>165 rows × 2 columns</p>\n",
       "</div>"
      ],
      "text/plain": [
       "              regulation.MEAN trade_freedom.MEAN\n",
       "country                                         \n",
       "Albania                  6.90               8.53\n",
       "Algeria                  4.51               3.14\n",
       "Angola                   5.30               2.97\n",
       "Argentina                4.80               4.22\n",
       "Armenia                  7.10               8.08\n",
       "...                       ...                ...\n",
       "Venezuela, RB            2.54               5.03\n",
       "Vietnam                  6.20               6.57\n",
       "Yemen, Rep.              3.11               4.61\n",
       "Zambia                   5.11               7.12\n",
       "Zimbabwe                 4.20               3.03\n",
       "\n",
       "[165 rows x 2 columns]"
      ]
     },
     "execution_count": 112,
     "metadata": {},
     "output_type": "execute_result"
    }
   ],
   "source": [
    "df_corr = cube.query(m[\"regulation.MEAN\"], m[\"trade_freedom.MEAN\"], levels=[l[\"country\"]], filter=l[\"year\"] == 2022)\n",
    "df_corr"
   ]
  },
  {
   "cell_type": "code",
   "execution_count": 113,
   "id": "ad5a08b7-b0fd-4370-ad42-dcf7cfd50697",
   "metadata": {},
   "outputs": [
    {
     "name": "stdout",
     "output_type": "stream",
     "text": [
      "Correlation: 0.75\n"
     ]
    }
   ],
   "source": [
    "corr = df_corr[\"regulation.MEAN\"].corr(df_corr[\"trade_freedom.MEAN\"])\n",
    "print(f\"Correlation: {corr:.2f}\")"
   ]
  },
  {
   "cell_type": "code",
   "execution_count": 114,
   "id": "0a15e63b-b2e1-4124-9e3c-1068e3770c24",
   "metadata": {},
   "outputs": [
    {
     "data": {
      "image/png": "[encoded data removed]",
      "text/plain": [
       "<Figure size 640x480 with 1 Axes>"
      ]
     },
     "metadata": {},
     "output_type": "display_data"
    }
   ],
   "source": [
    "plt.scatter(df_corr[\"regulation.MEAN\"], df_corr[\"trade_freedom.MEAN\"])\n",
    "plt.xlabel(\"Average Regulation Score (2022)\")\n",
    "plt.ylabel(\"Average Trade Freedom Score (2022)\")\n",
    "plt.title(f\"Correlation: {corr:.2f}\")\n",
    "plt.show()\n"
   ]
  },
  {
   "cell_type": "code",
   "execution_count": 115,
   "id": "4184349d-378c-4f99-acac-f4c526022e80",
   "metadata": {},
   "outputs": [
    {
     "data": {
      "image/png": "[encoded data removed]",
      "text/plain": [
       "<Figure size 640x480 with 2 Axes>"
      ]
     },
     "metadata": {},
     "output_type": "display_data"
    }
   ],
   "source": [
    "import seaborn as sns\n",
    "corr_matrix = df_corr.corr()\n",
    "sns.heatmap(corr_matrix, annot=True, cmap=\"coolwarm\")\n",
    "plt.title(\"Correlation Matrix of Scores (2022)\")\n",
    "plt.show()\n"
   ]
  },
  {
   "cell_type": "markdown",
   "id": "84013241-6a48-40e2-93bf-8b537f732847",
   "metadata": {},
   "source": [
    "Pertanyaan No 3\n",
    "\n",
    "\n",
    "3. Bagaimana tren skor rata-rata 'Uang yang Sehat' (Sound Money) untuk negara-negara yang tergolong dalam kategori 'LM' (Pendapatan Menengah Bawah) selama 10 tahun terakhir (2013–2022)?\n"
   ]
  },
  {
   "cell_type": "code",
   "execution_count": 117,
   "id": "8ed07619-f498-4393-ac2c-dc7711f723d3",
   "metadata": {},
   "outputs": [
    {
     "data": {
      "application/vnd.atoti.convert-mdx-query-result-to-widget.v0+json": {
       "mdx": "SELECT {[Measures].[sound_money.MEAN]} ON COLUMNS, NON EMPTY Hierarchize(Descendants({[EconomicFreedomData].[year].[ALL].[AllMember]}, 1, SELF_AND_BEFORE)) ON ROWS FROM (SELECT Filter([EconomicFreedomData].[year].[year].Members, [EconomicFreedomData].[year].CurrentMember.MEMBER_VALUE <= 2022) ON COLUMNS FROM (SELECT Filter([EconomicFreedomData].[year].[year].Members, [EconomicFreedomData].[year].CurrentMember.MEMBER_VALUE >= 2013) ON COLUMNS FROM [EconomicFreedomCube])) WHERE [EconomicFreedomData].[income_classification].[ALL].[AllMember].[LM]",
       "sessionId": "1748856658_172359",
       "widgetCreationCode": "session.widget"
      },
      "text/html": [
       "<div>\n",
       "<style scoped>\n",
       "    .dataframe tbody tr th:only-of-type {\n",
       "        vertical-align: middle;\n",
       "    }\n",
       "\n",
       "    .dataframe tbody tr th {\n",
       "        vertical-align: top;\n",
       "    }\n",
       "\n",
       "    .dataframe thead th {\n",
       "        text-align: right;\n",
       "    }\n",
       "</style>\n",
       "<table border=\"1\" class=\"dataframe\">\n",
       "  <thead>\n",
       "    <tr style=\"text-align: right;\">\n",
       "      <th></th>\n",
       "      <th>sound_money.MEAN</th>\n",
       "    </tr>\n",
       "    <tr>\n",
       "      <th>year</th>\n",
       "      <th></th>\n",
       "    </tr>\n",
       "  </thead>\n",
       "  <tbody>\n",
       "    <tr>\n",
       "      <th>2013</th>\n",
       "      <td>7.39</td>\n",
       "    </tr>\n",
       "    <tr>\n",
       "      <th>2014</th>\n",
       "      <td>7.39</td>\n",
       "    </tr>\n",
       "    <tr>\n",
       "      <th>2015</th>\n",
       "      <td>7.39</td>\n",
       "    </tr>\n",
       "    <tr>\n",
       "      <th>2016</th>\n",
       "      <td>7.55</td>\n",
       "    </tr>\n",
       "    <tr>\n",
       "      <th>2017</th>\n",
       "      <td>7.40</td>\n",
       "    </tr>\n",
       "    <tr>\n",
       "      <th>2018</th>\n",
       "      <td>7.39</td>\n",
       "    </tr>\n",
       "    <tr>\n",
       "      <th>2019</th>\n",
       "      <td>7.37</td>\n",
       "    </tr>\n",
       "    <tr>\n",
       "      <th>2020</th>\n",
       "      <td>7.40</td>\n",
       "    </tr>\n",
       "    <tr>\n",
       "      <th>2021</th>\n",
       "      <td>7.18</td>\n",
       "    </tr>\n",
       "    <tr>\n",
       "      <th>2022</th>\n",
       "      <td>6.58</td>\n",
       "    </tr>\n",
       "  </tbody>\n",
       "</table>\n",
       "</div>"
      ],
      "text/plain": [
       "     sound_money.MEAN\n",
       "year                 \n",
       "2013             7.39\n",
       "2014             7.39\n",
       "2015             7.39\n",
       "2016             7.55\n",
       "2017             7.40\n",
       "2018             7.39\n",
       "2019             7.37\n",
       "2020             7.40\n",
       "2021             7.18\n",
       "2022             6.58"
      ]
     },
     "execution_count": 117,
     "metadata": {},
     "output_type": "execute_result"
    }
   ],
   "source": [
    "df_trend = cube.query(\n",
    "    m[\"sound_money.MEAN\"],\n",
    "    levels=[l[\"year\"]],\n",
    "    filter=(l[\"income_classification\"] == \"LM\") & (l[\"year\"] >= 2013) & (l[\"year\"] <= 2022)\n",
    ")\n",
    "\n",
    "df_trend"
   ]
  },
  {
   "cell_type": "code",
   "execution_count": 118,
   "id": "7ce5f63e-6c99-41ad-a2cd-e9b566e86254",
   "metadata": {},
   "outputs": [
    {
     "data": {
      "image/png": "[encoded data removed]",
      "text/plain": [
       "<Figure size 640x480 with 1 Axes>"
      ]
     },
     "metadata": {},
     "output_type": "display_data"
    }
   ],
   "source": [
    "plt.plot(df_trend.index, df_trend[\"sound_money.MEAN\"], marker=\"o\")\n",
    "plt.xlabel(\"Year\")\n",
    "plt.ylabel(\"Average Sound Money Score\")\n",
    "plt.title(\"Trend of Average Sound Money Score for LM Countries (2013-2022)\")\n",
    "plt.show()\n"
   ]
  },
  {
   "cell_type": "code",
   "execution_count": 119,
   "id": "b773e6eb-1c30-438b-8e04-2c2ac3119ef1",
   "metadata": {},
   "outputs": [
    {
     "data": {
      "image/png": "[encoded data removed]",
      "text/plain": [
       "<Figure size 640x480 with 1 Axes>"
      ]
     },
     "metadata": {},
     "output_type": "display_data"
    }
   ],
   "source": [
    "plt.bar(df_trend.index, df_trend[\"sound_money.MEAN\"])\n",
    "plt.xlabel(\"Year\")\n",
    "plt.ylabel(\"Average Sound Money Score\")\n",
    "plt.title(\"Average Sound Money Score per Year (LM Countries)\")\n",
    "plt.show()\n"
   ]
  },
  {
   "cell_type": "markdown",
   "id": "acb65645-ab75-4679-8f54-c9a4ec3fd007",
   "metadata": {},
   "source": [
    "Pertanyaan no 4\n",
    "\n",
    "4. Wilayah Bank Dunia mana yang memiliki rata-rata skor 'Konsumsi Pemerintah' tertinggi pada tahun 2022?"
   ]
  },
  {
   "cell_type": "code",
   "execution_count": 121,
   "id": "dad91087-e0d6-4cc4-9a0d-202299eff85c",
   "metadata": {},
   "outputs": [],
   "source": [
    "query_result_df = cube.query(\n",
    "    m[\"government_consumption.MEAN\"],\n",
    "    levels=[l[\"world_bank_region\"]],\n",
    "    filter=l[\"year\"] == 2022,\n",
    ")\n"
   ]
  },
  {
   "cell_type": "code",
   "execution_count": 122,
   "id": "8a918abf-7808-4ee0-af2c-4c3fc5a9ea57",
   "metadata": {},
   "outputs": [
    {
     "name": "stdout",
     "output_type": "stream",
     "text": [
      "{'rank.SUM': <atoti.measure.Measure object at 0x0000023A6C11E060>, 'size_of_government.MEAN': <atoti.measure.Measure object at 0x0000023A6C11DAF0>, 'rank_sound_money.MEAN': <atoti.measure.Measure object at 0x0000023A6C1AF3B0>, 'rank_regulation.SUM': <atoti.measure.Measure object at 0x0000023A6C1AF0B0>, 'government_consumption.MEAN': <atoti.measure.Measure object at 0x0000023A6C1AF1D0>, 'legal_system.SUM': <atoti.measure.Measure object at 0x0000023A6C1AEED0>, 'tariffs.SUM': <atoti.measure.Measure object at 0x0000023A6C1AECF0>, 'quartile.SUM': <atoti.measure.Measure object at 0x0000023A6C1AE990>, 'transfers_subsidies.MEAN': <atoti.measure.Measure object at 0x0000023A6C1AE4B0>, 'transfers_subsidies.SUM': <atoti.measure.Measure object at 0x0000023A6C1AE690>, 'business_regulation.MEAN': <atoti.measure.Measure object at 0x0000023A6C1AE7B0>, 'trade_freedom.SUM': <atoti.measure.Measure object at 0x0000023A6C1AE3F0>, 'rank_regulation.MEAN': <atoti.measure.Measure object at 0x0000023A6C1AF9B0>, 'business_regulation.SUM': <atoti.measure.Measure object at 0x0000023A6C1AF9E0>, 'rank_trade_freedom.SUM': <atoti.measure.Measure object at 0x0000023A6C1AFFB0>, 'labor_regulation.SUM': <atoti.measure.Measure object at 0x0000023A6C1AFA40>, 'sound_money.SUM': <atoti.measure.Measure object at 0x0000023A6C1AFD10>, 'update.TIMESTAMP': <atoti.measure.Measure object at 0x0000023A6C1AFDD0>, 'rank_size_of_government.SUM': <atoti.measure.Measure object at 0x0000023A6C1AFE90>, 'government_consumption.SUM': <atoti.measure.Measure object at 0x0000023A6C1AC650>, 'economic_freedom_index.MEAN': <atoti.measure.Measure object at 0x0000023A6C1AC500>, 'legal_system.MEAN': <atoti.measure.Measure object at 0x0000023A6C1AC590>, 'inflation.MEAN': <atoti.measure.Measure object at 0x0000023A6C1AC440>, 'trade_freedom.MEAN': <atoti.measure.Measure object at 0x0000023A6C1AC2F0>, 'size_of_government.SUM': <atoti.measure.Measure object at 0x0000023A6C1AC5F0>, 'rank_sound_money.SUM': <atoti.measure.Measure object at 0x0000023A6C1AF590>, 'regulation.SUM': <atoti.measure.Measure object at 0x0000023A6C1AC050>, 'tariffs.MEAN': <atoti.measure.Measure object at 0x0000023A6C1AC170>, 'regulation.MEAN': <atoti.measure.Measure object at 0x0000023A6C1AC2C0>, 'inflation.SUM': <atoti.measure.Measure object at 0x0000023A6C1AC230>, 'rank_legal_system.MEAN': <atoti.measure.Measure object at 0x0000023A6C1AC380>, 'rank.MEAN': <atoti.measure.Measure object at 0x0000023A6C1AC3B0>, 'contributors.COUNT': <atoti.measure.Measure object at 0x0000023A6C1AC800>, 'rank_trade_freedom.MEAN': <atoti.measure.Measure object at 0x0000023A6C1AC6E0>, 'rank_legal_system.SUM': <atoti.measure.Measure object at 0x0000023A6C1AFE00>, 'economic_freedom_index.SUM': <atoti.measure.Measure object at 0x0000023A6C1ACAA0>, 'quartile.MEAN': <atoti.measure.Measure object at 0x0000023A6C1AD9A0>, 'labor_regulation.MEAN': <atoti.measure.Measure object at 0x0000023A6C1AD8B0>, 'rank_size_of_government.MEAN': <atoti.measure.Measure object at 0x0000023A6C1AD280>, 'sound_money.MEAN': <atoti.measure.Measure object at 0x0000023A6C1AC950>, 'Avg Economic Freedom Index': <atoti.measure.Measure object at 0x0000023A6C1AD4F0>, 'Record Count': <atoti.measure.Measure object at 0x0000023A6C1ACFB0>}\n"
     ]
    }
   ],
   "source": [
    "print(m)"
   ]
  },
  {
   "cell_type": "code",
   "execution_count": 123,
   "id": "ffe921d0-7fd6-4757-9014-c06780dbfebf",
   "metadata": {},
   "outputs": [
    {
     "data": {
      "image/png": "[encoded data removed]",
      "text/plain": [
       "<Figure size 640x480 with 1 Axes>"
      ]
     },
     "metadata": {},
     "output_type": "display_data"
    }
   ],
   "source": [
    "df_all_regions = cube.query(\n",
    "    m[\"government_consumption.MEAN\"],\n",
    "    levels=[l[\"world_bank_region\"]],\n",
    "    filter=l[\"year\"] == 2022\n",
    ").sort_values(\"government_consumption.MEAN\", ascending=False)\n",
    "\n",
    "plt.bar(df_all_regions.index, query_result_df[\"government_consumption.MEAN\"])\n",
    "plt.xticks(rotation=45)\n",
    "plt.title(\"Average Government Consumption Score by World Bank Region (2022)\")\n",
    "plt.show()\n"
   ]
  },
  {
   "cell_type": "code",
   "execution_count": 124,
   "id": "20568593-61d5-4d7c-a313-61ef8d05d84e",
   "metadata": {},
   "outputs": [
    {
     "data": {
      "image/png": "[encoded data removed]",
      "text/plain": [
       "<Figure size 640x480 with 1 Axes>"
      ]
     },
     "metadata": {},
     "output_type": "display_data"
    }
   ],
   "source": [
    "plt.pie(df_all_regions[\"government_consumption.MEAN\"], labels=df_all_regions.index, autopct=\"%1.1f%%\")\n",
    "plt.title(\"Government Consumption Score Share by Region (2022)\")\n",
    "plt.show()"
   ]
  },
  {
   "cell_type": "markdown",
   "id": "7aa6c8da-1ffb-41de-935f-f3cb38d5457f",
   "metadata": {},
   "source": [
    "Pertanyaan no 5\n",
    "\n",
    "\n",
    "How has the number of countries in each Income Classification changed from 2000 to 2022?"
   ]
  },
  {
   "cell_type": "code",
   "execution_count": 135,
   "id": "9167851c-8f54-4dc4-9f59-8f7a183ed449",
   "metadata": {},
   "outputs": [
    {
     "name": "stdout",
     "output_type": "stream",
     "text": [
      "{('EconomicFreedomData', 'year', 'year'): <atoti.level.Level object at 0x0000023A6C1ADB50>, ('EconomicFreedomData', 'world_bank_region', 'world_bank_region'): <atoti.level.Level object at 0x0000023A68C00DD0>, ('EconomicFreedomData', 'country_code', 'country_code'): <atoti.level.Level object at 0x0000023A68C02EA0>, ('EconomicFreedomData', 'country', 'country'): <atoti.level.Level object at 0x0000023A6C11EA20>, ('EconomicFreedomData', 'income_classification', 'income_classification'): <atoti.level.Level object at 0x0000023A6AD55730>}\n",
      "{'rank.SUM': <atoti.measure.Measure object at 0x0000023A6C1F6240>, 'size_of_government.MEAN': <atoti.measure.Measure object at 0x0000023A6C1F5D90>, 'rank_sound_money.MEAN': <atoti.measure.Measure object at 0x0000023A6C1F7C50>, 'rank_regulation.SUM': <atoti.measure.Measure object at 0x0000023A6C1F5BB0>, 'government_consumption.MEAN': <atoti.measure.Measure object at 0x0000023A6C1F74A0>, 'legal_system.SUM': <atoti.measure.Measure object at 0x0000023A6C1F54C0>, 'tariffs.SUM': <atoti.measure.Measure object at 0x0000023A6C1F70E0>, 'quartile.SUM': <atoti.measure.Measure object at 0x0000023A6C1F6CF0>, 'transfers_subsidies.MEAN': <atoti.measure.Measure object at 0x0000023A6C1F5880>, 'transfers_subsidies.SUM': <atoti.measure.Measure object at 0x0000023A6C1F40E0>, 'business_regulation.MEAN': <atoti.measure.Measure object at 0x0000023A6C1F4FE0>, 'trade_freedom.SUM': <atoti.measure.Measure object at 0x0000023A6C1F6AE0>, 'rank_regulation.MEAN': <atoti.measure.Measure object at 0x0000023A6C1F56D0>, 'business_regulation.SUM': <atoti.measure.Measure object at 0x0000023A6C1F4E60>, 'rank_trade_freedom.SUM': <atoti.measure.Measure object at 0x0000023A6C1F5910>, 'labor_regulation.SUM': <atoti.measure.Measure object at 0x0000023A6C1F4BF0>, 'sound_money.SUM': <atoti.measure.Measure object at 0x0000023A6C1F7680>, 'update.TIMESTAMP': <atoti.measure.Measure object at 0x0000023A6C1F4500>, 'rank_size_of_government.SUM': <atoti.measure.Measure object at 0x0000023A6C1F6EA0>, 'government_consumption.SUM': <atoti.measure.Measure object at 0x0000023A6C1F6B10>, 'economic_freedom_index.MEAN': <atoti.measure.Measure object at 0x0000023A6C1F66C0>, 'legal_system.MEAN': <atoti.measure.Measure object at 0x0000023A6C1F7E30>, 'inflation.MEAN': <atoti.measure.Measure object at 0x0000023A6C1F78F0>, 'trade_freedom.MEAN': <atoti.measure.Measure object at 0x0000023A6C1F6000>, 'size_of_government.SUM': <atoti.measure.Measure object at 0x0000023A6C1F5D60>, 'rank_sound_money.SUM': <atoti.measure.Measure object at 0x0000023A6C1F5EB0>, 'regulation.SUM': <atoti.measure.Measure object at 0x0000023A6C1F70B0>, 'tariffs.MEAN': <atoti.measure.Measure object at 0x0000023A6C1F4440>, 'regulation.MEAN': <atoti.measure.Measure object at 0x0000023A6C1F4740>, 'inflation.SUM': <atoti.measure.Measure object at 0x0000023A6C1F4620>, 'rank_legal_system.MEAN': <atoti.measure.Measure object at 0x0000023A6C1F72C0>, 'rank.MEAN': <atoti.measure.Measure object at 0x0000023A6C1F7650>, 'contributors.COUNT': <atoti.measure.Measure object at 0x0000023A6C1F68D0>, 'rank_trade_freedom.MEAN': <atoti.measure.Measure object at 0x0000023A6C1F5430>, 'rank_legal_system.SUM': <atoti.measure.Measure object at 0x0000023A6C1F49B0>, 'economic_freedom_index.SUM': <atoti.measure.Measure object at 0x0000023A6C1F5940>, 'quartile.MEAN': <atoti.measure.Measure object at 0x0000023A6C1F6A50>, 'labor_regulation.MEAN': <atoti.measure.Measure object at 0x0000023A6C1F7F20>, 'rank_size_of_government.MEAN': <atoti.measure.Measure object at 0x0000023A6C1F62A0>, 'sound_money.MEAN': <atoti.measure.Measure object at 0x0000023A6C1F5E50>, 'Avg Economic Freedom Index': <atoti.measure.Measure object at 0x0000023A6C1F5820>, 'Record Count': <atoti.measure.Measure object at 0x0000023A6C1F64E0>}\n"
     ]
    }
   ],
   "source": [
    "print(cube.levels)\n",
    "print(cube.measures)"
   ]
  },
  {
   "cell_type": "code",
   "execution_count": 157,
   "id": "09b30b14-d672-40d2-b955-8e93c2fc8871",
   "metadata": {},
   "outputs": [
    {
     "ename": "NameError",
     "evalue": "name 'store' is not defined",
     "output_type": "error",
     "traceback": [
      "\u001b[1;31m---------------------------------------------------------------------------\u001b[0m",
      "\u001b[1;31mNameError\u001b[0m                                 Traceback (most recent call last)",
      "Cell \u001b[1;32mIn[157], line 1\u001b[0m\n\u001b[1;32m----> 1\u001b[0m cube\u001b[38;5;241m.\u001b[39mhierarchies[\u001b[38;5;124m\"\u001b[39m\u001b[38;5;124mCountry_Quartile_Year\u001b[39m\u001b[38;5;124m\"\u001b[39m] \u001b[38;5;241m=\u001b[39m [store[\u001b[38;5;124m\"\u001b[39m\u001b[38;5;124mcountry\u001b[39m\u001b[38;5;124m\"\u001b[39m], store[\u001b[38;5;124m\"\u001b[39m\u001b[38;5;124mquartile\u001b[39m\u001b[38;5;124m\"\u001b[39m], store[\u001b[38;5;124m\"\u001b[39m\u001b[38;5;124myear\u001b[39m\u001b[38;5;124m\"\u001b[39m]]\n\u001b[0;32m      3\u001b[0m \u001b[38;5;66;03m# Lakukan query\u001b[39;00m\n\u001b[0;32m      4\u001b[0m df_labor \u001b[38;5;241m=\u001b[39m cube\u001b[38;5;241m.\u001b[39mquery(\n\u001b[0;32m      5\u001b[0m     m[\u001b[38;5;124m\"\u001b[39m\u001b[38;5;124mlabor_regulation.MEAN\u001b[39m\u001b[38;5;124m\"\u001b[39m],  \u001b[38;5;66;03m# Pastikan measure ini memang ada\u001b[39;00m\n\u001b[0;32m      6\u001b[0m     levels\u001b[38;5;241m=\u001b[39m[l[\u001b[38;5;124m\"\u001b[39m\u001b[38;5;124mcountry\u001b[39m\u001b[38;5;124m\"\u001b[39m], l[\u001b[38;5;124m\"\u001b[39m\u001b[38;5;124mquartile\u001b[39m\u001b[38;5;124m\"\u001b[39m], l[\u001b[38;5;124m\"\u001b[39m\u001b[38;5;124myear\u001b[39m\u001b[38;5;124m\"\u001b[39m]]\n\u001b[0;32m      7\u001b[0m )\n",
      "\u001b[1;31mNameError\u001b[0m: name 'store' is not defined"
     ]
    }
   ],
   "source": [
    "cube.hierarchies[\"Country_Quartile_Year\"] = [st[\"country\"], store[\"quartile\"], store[\"year\"]]\n",
    "\n",
    "# Lakukan query\n",
    "df_labor = cube.query(\n",
    "    m[\"labor_regulation.MEAN\"],  # Pastikan measure ini memang ada\n",
    "    levels=[l[\"country\"], l[\"quartile\"], l[\"year\"]]\n",
    ")\n",
    "\n",
    "# Filter hasil dengan Pandas\n",
    "df_labor_filtered = df_labor[\n",
    "    (df_labor[\"quartile\"] == 1.0) & (df_labor[\"year\"] == 2022)\n",
    "]\n",
    "\n",
    "print(df_labor_filtered)"
   ]
  },
  {
   "cell_type": "code",
   "execution_count": 129,
   "id": "e3c6e56f-3907-45d4-82d0-902d624b54e7",
   "metadata": {},
   "outputs": [
    {
     "ename": "KeyError",
     "evalue": "'quartile'",
     "output_type": "error",
     "traceback": [
      "\u001b[1;31m---------------------------------------------------------------------------\u001b[0m",
      "\u001b[1;31mKeyError\u001b[0m                                  Traceback (most recent call last)",
      "Cell \u001b[1;32mIn[129], line 1\u001b[0m\n\u001b[1;32m----> 1\u001b[0m \u001b[38;5;28mprint\u001b[39m(cube\u001b[38;5;241m.\u001b[39mlevels[\u001b[38;5;124m\"\u001b[39m\u001b[38;5;124mquartile\u001b[39m\u001b[38;5;124m\"\u001b[39m]\u001b[38;5;241m.\u001b[39mmembers)\n\u001b[0;32m      2\u001b[0m \u001b[38;5;28mprint\u001b[39m(cube\u001b[38;5;241m.\u001b[39mlevels[\u001b[38;5;124m\"\u001b[39m\u001b[38;5;124myear\u001b[39m\u001b[38;5;124m\"\u001b[39m]\u001b[38;5;241m.\u001b[39mmembers)\n",
      "File \u001b[1;32m~\\anaconda3\\Lib\\site-packages\\pydantic\\_internal\\_validate_call.py:39\u001b[0m, in \u001b[0;36mupdate_wrapper_attributes.<locals>.wrapper_function\u001b[1;34m(*args, **kwargs)\u001b[0m\n\u001b[0;32m     37\u001b[0m \u001b[38;5;129m@functools\u001b[39m\u001b[38;5;241m.\u001b[39mwraps(wrapped)\n\u001b[0;32m     38\u001b[0m \u001b[38;5;28;01mdef\u001b[39;00m \u001b[38;5;21mwrapper_function\u001b[39m(\u001b[38;5;241m*\u001b[39margs, \u001b[38;5;241m*\u001b[39m\u001b[38;5;241m*\u001b[39mkwargs):\n\u001b[1;32m---> 39\u001b[0m     \u001b[38;5;28;01mreturn\u001b[39;00m wrapper(\u001b[38;5;241m*\u001b[39margs, \u001b[38;5;241m*\u001b[39m\u001b[38;5;241m*\u001b[39mkwargs)\n",
      "File \u001b[1;32m~\\anaconda3\\Lib\\site-packages\\pydantic\\_internal\\_validate_call.py:136\u001b[0m, in \u001b[0;36mValidateCallWrapper.__call__\u001b[1;34m(self, *args, **kwargs)\u001b[0m\n\u001b[0;32m    133\u001b[0m \u001b[38;5;28;01mif\u001b[39;00m \u001b[38;5;129;01mnot\u001b[39;00m \u001b[38;5;28mself\u001b[39m\u001b[38;5;241m.\u001b[39m__pydantic_complete__:\n\u001b[0;32m    134\u001b[0m     \u001b[38;5;28mself\u001b[39m\u001b[38;5;241m.\u001b[39m_create_validators()\n\u001b[1;32m--> 136\u001b[0m res \u001b[38;5;241m=\u001b[39m \u001b[38;5;28mself\u001b[39m\u001b[38;5;241m.\u001b[39m__pydantic_validator__\u001b[38;5;241m.\u001b[39mvalidate_python(pydantic_core\u001b[38;5;241m.\u001b[39mArgsKwargs(args, kwargs))\n\u001b[0;32m    137\u001b[0m \u001b[38;5;28;01mif\u001b[39;00m \u001b[38;5;28mself\u001b[39m\u001b[38;5;241m.\u001b[39m__return_pydantic_validator__:\n\u001b[0;32m    138\u001b[0m     \u001b[38;5;28;01mreturn\u001b[39;00m \u001b[38;5;28mself\u001b[39m\u001b[38;5;241m.\u001b[39m__return_pydantic_validator__(res)\n",
      "File \u001b[1;32m~\\anaconda3\\Lib\\site-packages\\atoti\\_collections\\delegating_key_disambiguating_mapping.py:74\u001b[0m, in \u001b[0;36mDelegatingKeyDisambiguatingMapping.__getitem__\u001b[1;34m(self, key)\u001b[0m\n\u001b[0;32m     67\u001b[0m \u001b[38;5;129m@final\u001b[39m\n\u001b[0;32m     68\u001b[0m \u001b[38;5;129m@override\u001b[39m\n\u001b[0;32m     69\u001b[0m \u001b[38;5;28;01mdef\u001b[39;00m \u001b[38;5;21m__getitem__\u001b[39m(\u001b[38;5;28mself\u001b[39m, key: Key, \u001b[38;5;241m/\u001b[39m) \u001b[38;5;241m-\u001b[39m\u001b[38;5;241m>\u001b[39m Value:\n\u001b[0;32m     70\u001b[0m     delegate \u001b[38;5;241m=\u001b[39m \u001b[38;5;28mself\u001b[39m\u001b[38;5;241m.\u001b[39m_get_delegate(key\u001b[38;5;241m=\u001b[39mkey)\n\u001b[0;32m     72\u001b[0m     \u001b[38;5;28;01mmatch\u001b[39;00m \u001b[38;5;28mlen\u001b[39m(delegate):\n\u001b[0;32m     73\u001b[0m         \u001b[38;5;28;01mcase\u001b[39;00m \u001b[38;5;241m0\u001b[39m:\n\u001b[1;32m---> 74\u001b[0m             \u001b[38;5;28;01mraise\u001b[39;00m \u001b[38;5;167;01mKeyError\u001b[39;00m(key)\n\u001b[0;32m     75\u001b[0m         \u001b[38;5;28;01mcase\u001b[39;00m \u001b[38;5;241m1\u001b[39m:\n\u001b[0;32m     76\u001b[0m             \u001b[38;5;28;01mreturn\u001b[39;00m \u001b[38;5;28mnext\u001b[39m(\u001b[38;5;28miter\u001b[39m(delegate\u001b[38;5;241m.\u001b[39mvalues()))\n\u001b[0;32m     77\u001b[0m         \u001b[38;5;28;01mcase\u001b[39;00m\u001b[38;5;250m \u001b[39m\u001b[38;5;28;01m_\u001b[39;00m:\n\u001b[0;32m     78\u001b[0m             \u001b[38;5;28;01mraise\u001b[39;00m \u001b[38;5;167;01mValueError\u001b[39;00m(\n\u001b[0;32m     79\u001b[0m                 \u001b[38;5;124mf\u001b[39m\u001b[38;5;124m\"\u001b[39m\u001b[38;5;124mDisambiguate `\u001b[39m\u001b[38;5;132;01m{\u001b[39;00mkey\u001b[38;5;132;01m}\u001b[39;00m\u001b[38;5;124m` to narrow it down to one of \u001b[39m\u001b[38;5;132;01m{\u001b[39;00m\u001b[38;5;28mlist\u001b[39m(delegate)\u001b[38;5;132;01m}\u001b[39;00m\u001b[38;5;124m.\u001b[39m\u001b[38;5;124m\"\u001b[39m,\n\u001b[0;32m     80\u001b[0m             )\n",
      "\u001b[1;31mKeyError\u001b[0m: 'quartile'"
     ]
    }
   ],
   "source": [
    "print(cube.levels[\"quartile\"].members)\n",
    "print(cube.levels[\"year\"].members)"
   ]
  },
  {
   "cell_type": "code",
   "execution_count": null,
   "id": "7282ed7c-d214-498c-83f0-7e8f9809f73e",
   "metadata": {},
   "outputs": [],
   "source": [
    "print(store.schema)"
   ]
  },
  {
   "cell_type": "code",
   "execution_count": 131,
   "id": "c71f0119-561d-4ada-8f56-fbdbec8684e7",
   "metadata": {},
   "outputs": [
    {
     "ename": "NameError",
     "evalue": "name 'df_labor' is not defined",
     "output_type": "error",
     "traceback": [
      "\u001b[1;31m---------------------------------------------------------------------------\u001b[0m",
      "\u001b[1;31mNameError\u001b[0m                                 Traceback (most recent call last)",
      "Cell \u001b[1;32mIn[131], line 5\u001b[0m\n\u001b[0;32m      2\u001b[0m \u001b[38;5;28;01mimport\u001b[39;00m \u001b[38;5;21;01mseaborn\u001b[39;00m \u001b[38;5;28;01mas\u001b[39;00m \u001b[38;5;21;01msns\u001b[39;00m\n\u001b[0;32m      4\u001b[0m \u001b[38;5;66;03m# Sortir data untuk tampilan yang lebih rapi\u001b[39;00m\n\u001b[1;32m----> 5\u001b[0m df_labor_sorted \u001b[38;5;241m=\u001b[39m df_labor\u001b[38;5;241m.\u001b[39msort_values(by\u001b[38;5;241m=\u001b[39mm[\u001b[38;5;124m\"\u001b[39m\u001b[38;5;124mlabor_regulation.MEAN\u001b[39m\u001b[38;5;124m\"\u001b[39m], ascending\u001b[38;5;241m=\u001b[39m\u001b[38;5;28;01mFalse\u001b[39;00m)\n\u001b[0;32m      7\u001b[0m plt\u001b[38;5;241m.\u001b[39mfigure(figsize\u001b[38;5;241m=\u001b[39m(\u001b[38;5;241m12\u001b[39m, \u001b[38;5;241m6\u001b[39m))\n\u001b[0;32m      8\u001b[0m sns\u001b[38;5;241m.\u001b[39mbarplot(\n\u001b[0;32m      9\u001b[0m     x\u001b[38;5;241m=\u001b[39mdf_labor_sorted[m[\u001b[38;5;124m\"\u001b[39m\u001b[38;5;124mlabor_regulation.MEAN\u001b[39m\u001b[38;5;124m\"\u001b[39m]],\n\u001b[0;32m     10\u001b[0m     y\u001b[38;5;241m=\u001b[39mdf_labor_sorted[\u001b[38;5;124m\"\u001b[39m\u001b[38;5;124mcountry\u001b[39m\u001b[38;5;124m\"\u001b[39m], \n\u001b[0;32m     11\u001b[0m     palette\u001b[38;5;241m=\u001b[39m\u001b[38;5;124m\"\u001b[39m\u001b[38;5;124mviridis\u001b[39m\u001b[38;5;124m\"\u001b[39m\n\u001b[0;32m     12\u001b[0m )\n",
      "\u001b[1;31mNameError\u001b[0m: name 'df_labor' is not defined"
     ]
    }
   ],
   "source": [
    "import matplotlib.pyplot as plt\n",
    "import seaborn as sns\n",
    "\n",
    "# Sortir data untuk tampilan yang lebih rapi\n",
    "df_labor_sorted = df_labor.sort_values(by=m[\"labor_regulation.MEAN\"], ascending=False)\n",
    "\n",
    "plt.figure(figsize=(12, 6))\n",
    "sns.barplot(\n",
    "    x=df_labor_sorted[m[\"labor_regulation.MEAN\"]],\n",
    "    y=df_labor_sorted[\"country\"], \n",
    "    palette=\"viridis\"\n",
    ")\n",
    "plt.xlabel(\"Rata-rata Skor Regulasi Pasar Tenaga Kerja\")\n",
    "plt.ylabel(\"Negara\")\n",
    "plt.title(\"Skor Regulasi Pasar Tenaga Kerja untuk Negara Kuartil 1 (2022)\")\n",
    "plt.tight_layout()\n",
    "plt.show()\n"
   ]
  },
  {
   "cell_type": "code",
   "execution_count": 133,
   "id": "d4b1639d-a8a2-437d-ae9e-860e4eb40c49",
   "metadata": {},
   "outputs": [
    {
     "ename": "NameError",
     "evalue": "name 'df_labor' is not defined",
     "output_type": "error",
     "traceback": [
      "\u001b[1;31m---------------------------------------------------------------------------\u001b[0m",
      "\u001b[1;31mNameError\u001b[0m                                 Traceback (most recent call last)",
      "Cell \u001b[1;32mIn[133], line 3\u001b[0m\n\u001b[0;32m      1\u001b[0m plt\u001b[38;5;241m.\u001b[39mfigure(figsize\u001b[38;5;241m=\u001b[39m(\u001b[38;5;241m6\u001b[39m, \u001b[38;5;241m5\u001b[39m))\n\u001b[0;32m      2\u001b[0m sns\u001b[38;5;241m.\u001b[39mboxplot(\n\u001b[1;32m----> 3\u001b[0m     y\u001b[38;5;241m=\u001b[39mdf_labor[m[\u001b[38;5;124m\"\u001b[39m\u001b[38;5;124mlabor_regulation.MEAN\u001b[39m\u001b[38;5;124m\"\u001b[39m]],\n\u001b[0;32m      4\u001b[0m     color\u001b[38;5;241m=\u001b[39m\u001b[38;5;124m\"\u001b[39m\u001b[38;5;124mskyblue\u001b[39m\u001b[38;5;124m\"\u001b[39m\n\u001b[0;32m      5\u001b[0m )\n\u001b[0;32m      6\u001b[0m plt\u001b[38;5;241m.\u001b[39mylabel(\u001b[38;5;124m\"\u001b[39m\u001b[38;5;124mSkor Regulasi Pasar Tenaga Kerja\u001b[39m\u001b[38;5;124m\"\u001b[39m)\n\u001b[0;32m      7\u001b[0m plt\u001b[38;5;241m.\u001b[39mtitle(\u001b[38;5;124m\"\u001b[39m\u001b[38;5;124mDistribusi Skor Regulasi Pasar Tenaga Kerja (Kuartil 1, 2022)\u001b[39m\u001b[38;5;124m\"\u001b[39m)\n",
      "\u001b[1;31mNameError\u001b[0m: name 'df_labor' is not defined"
     ]
    },
    {
     "data": {
      "text/plain": [
       "<Figure size 600x500 with 0 Axes>"
      ]
     },
     "metadata": {},
     "output_type": "display_data"
    }
   ],
   "source": [
    "plt.figure(figsize=(6, 5))\n",
    "sns.boxplot(\n",
    "    y=df_labor[m[\"labor_regulation.MEAN\"]],\n",
    "    color=\"skyblue\"\n",
    ")\n",
    "plt.ylabel(\"Skor Regulasi Pasar Tenaga Kerja\")\n",
    "plt.title(\"Distribusi Skor Regulasi Pasar Tenaga Kerja (Kuartil 1, 2022)\")\n",
    "plt.grid(axis='y', linestyle='--', alpha=0.7)\n",
    "plt.show()"
   ]
  }
 ],
 "metadata": {
  "kernelspec": {
   "display_name": "Python 3 (ipykernel)",
   "language": "python",
   "name": "python3"
  },
  "language_info": {
   "codemirror_mode": {
    "name": "ipython",
    "version": 3
   },
   "file_extension": ".py",
   "mimetype": "text/x-python",
   "name": "python",
   "nbconvert_exporter": "python",
   "pygments_lexer": "ipython3",
   "version": "3.12.7"
  }
 },
 "nbformat": 4,
 "nbformat_minor": 5
}
